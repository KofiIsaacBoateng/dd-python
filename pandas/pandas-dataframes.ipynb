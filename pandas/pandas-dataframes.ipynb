{
 "cells": [
  {
   "cell_type": "markdown",
   "id": "dbd3e72e-8d8d-4e4a-8af3-820e31cf7dd5",
   "metadata": {},
   "source": [
    "## PANDAS DATAFRAMES"
   ]
  },
  {
   "cell_type": "markdown",
   "id": "aa530a19-db81-4713-b828-4f3dc0f6c129",
   "metadata": {},
   "source": [
    "# DataFrames\n",
    "\n",
    "DataFrames are the workhorse of pandas and are directly inspired by the R programming language. We can think of a DataFrame as a bunch of Series objects put together to share the same index. Let's use pandas to explore this topic!"
   ]
  },
  {
   "cell_type": "code",
   "execution_count": 78,
   "id": "2b36dc5b-dfd1-4a4d-ba9e-48a96a279415",
   "metadata": {},
   "outputs": [],
   "source": [
    "# imports\n",
    "import numpy as np\n",
    "import pandas as pd"
   ]
  },
  {
   "cell_type": "code",
   "execution_count": 79,
   "id": "7aeb96e7-aac3-4272-bf14-e1082d4f33d1",
   "metadata": {},
   "outputs": [],
   "source": [
    "from numpy.random import random, randn # numpy random numbers between 0 and 1"
   ]
  },
  {
   "cell_type": "code",
   "execution_count": 80,
   "id": "54c28cce-1898-45b7-9d08-dbc79291959a",
   "metadata": {},
   "outputs": [],
   "source": [
    "# create a dataframe\n",
    "df = pd.DataFrame(random(20).reshape(5, 4),index='A B C D E'.split(),columns='W X Y Z'.split())"
   ]
  },
  {
   "cell_type": "code",
   "execution_count": 11,
   "id": "4ec866ba-497c-4f04-be1c-7022462f876c",
   "metadata": {},
   "outputs": [
    {
     "data": {
      "text/html": [
       "<div>\n",
       "<style scoped>\n",
       "    .dataframe tbody tr th:only-of-type {\n",
       "        vertical-align: middle;\n",
       "    }\n",
       "\n",
       "    .dataframe tbody tr th {\n",
       "        vertical-align: top;\n",
       "    }\n",
       "\n",
       "    .dataframe thead th {\n",
       "        text-align: right;\n",
       "    }\n",
       "</style>\n",
       "<table border=\"1\" class=\"dataframe\">\n",
       "  <thead>\n",
       "    <tr style=\"text-align: right;\">\n",
       "      <th></th>\n",
       "      <th>W</th>\n",
       "      <th>X</th>\n",
       "      <th>Y</th>\n",
       "      <th>Z</th>\n",
       "    </tr>\n",
       "  </thead>\n",
       "  <tbody>\n",
       "    <tr>\n",
       "      <th>A</th>\n",
       "      <td>0.237771</td>\n",
       "      <td>0.029479</td>\n",
       "      <td>0.921123</td>\n",
       "      <td>0.414029</td>\n",
       "    </tr>\n",
       "    <tr>\n",
       "      <th>B</th>\n",
       "      <td>0.148881</td>\n",
       "      <td>0.734014</td>\n",
       "      <td>0.105001</td>\n",
       "      <td>0.824356</td>\n",
       "    </tr>\n",
       "    <tr>\n",
       "      <th>C</th>\n",
       "      <td>0.669889</td>\n",
       "      <td>0.670316</td>\n",
       "      <td>0.645962</td>\n",
       "      <td>0.041354</td>\n",
       "    </tr>\n",
       "    <tr>\n",
       "      <th>D</th>\n",
       "      <td>0.408466</td>\n",
       "      <td>0.612496</td>\n",
       "      <td>0.324035</td>\n",
       "      <td>0.234293</td>\n",
       "    </tr>\n",
       "    <tr>\n",
       "      <th>E</th>\n",
       "      <td>0.118812</td>\n",
       "      <td>0.302449</td>\n",
       "      <td>0.003767</td>\n",
       "      <td>0.956487</td>\n",
       "    </tr>\n",
       "  </tbody>\n",
       "</table>\n",
       "</div>"
      ],
      "text/plain": [
       "          W         X         Y         Z\n",
       "A  0.237771  0.029479  0.921123  0.414029\n",
       "B  0.148881  0.734014  0.105001  0.824356\n",
       "C  0.669889  0.670316  0.645962  0.041354\n",
       "D  0.408466  0.612496  0.324035  0.234293\n",
       "E  0.118812  0.302449  0.003767  0.956487"
      ]
     },
     "execution_count": 11,
     "metadata": {},
     "output_type": "execute_result"
    }
   ],
   "source": [
    "df   # show"
   ]
  },
  {
   "cell_type": "markdown",
   "id": "53ee55f6-8328-470a-b962-40a11068dc39",
   "metadata": {},
   "source": [
    "## Selection and Indexing\n",
    "\n",
    "Let's practice the various methods to grab data from a DataFrame"
   ]
  },
  {
   "cell_type": "markdown",
   "id": "cd854ad7-c53a-41ff-bfde-8fe702275b56",
   "metadata": {},
   "source": [
    "#### Selecting Columns"
   ]
  },
  {
   "cell_type": "code",
   "execution_count": 12,
   "id": "cdf1f27d-af72-4c7e-9e6f-69572a229e71",
   "metadata": {},
   "outputs": [
    {
     "data": {
      "text/plain": [
       "A    0.237771\n",
       "B    0.148881\n",
       "C    0.669889\n",
       "D    0.408466\n",
       "E    0.118812\n",
       "Name: W, dtype: float64"
      ]
     },
     "execution_count": 12,
     "metadata": {},
     "output_type": "execute_result"
    }
   ],
   "source": [
    "df['W']  # select a single column"
   ]
  },
  {
   "cell_type": "code",
   "execution_count": 14,
   "id": "b64aad98-180f-4e6f-a2e7-9444c445eecb",
   "metadata": {},
   "outputs": [
    {
     "data": {
      "text/html": [
       "<div>\n",
       "<style scoped>\n",
       "    .dataframe tbody tr th:only-of-type {\n",
       "        vertical-align: middle;\n",
       "    }\n",
       "\n",
       "    .dataframe tbody tr th {\n",
       "        vertical-align: top;\n",
       "    }\n",
       "\n",
       "    .dataframe thead th {\n",
       "        text-align: right;\n",
       "    }\n",
       "</style>\n",
       "<table border=\"1\" class=\"dataframe\">\n",
       "  <thead>\n",
       "    <tr style=\"text-align: right;\">\n",
       "      <th></th>\n",
       "      <th>X</th>\n",
       "      <th>Z</th>\n",
       "    </tr>\n",
       "  </thead>\n",
       "  <tbody>\n",
       "    <tr>\n",
       "      <th>A</th>\n",
       "      <td>0.029479</td>\n",
       "      <td>0.414029</td>\n",
       "    </tr>\n",
       "    <tr>\n",
       "      <th>B</th>\n",
       "      <td>0.734014</td>\n",
       "      <td>0.824356</td>\n",
       "    </tr>\n",
       "    <tr>\n",
       "      <th>C</th>\n",
       "      <td>0.670316</td>\n",
       "      <td>0.041354</td>\n",
       "    </tr>\n",
       "    <tr>\n",
       "      <th>D</th>\n",
       "      <td>0.612496</td>\n",
       "      <td>0.234293</td>\n",
       "    </tr>\n",
       "    <tr>\n",
       "      <th>E</th>\n",
       "      <td>0.302449</td>\n",
       "      <td>0.956487</td>\n",
       "    </tr>\n",
       "  </tbody>\n",
       "</table>\n",
       "</div>"
      ],
      "text/plain": [
       "          X         Z\n",
       "A  0.029479  0.414029\n",
       "B  0.734014  0.824356\n",
       "C  0.670316  0.041354\n",
       "D  0.612496  0.234293\n",
       "E  0.302449  0.956487"
      ]
     },
     "execution_count": 14,
     "metadata": {},
     "output_type": "execute_result"
    }
   ],
   "source": [
    "df[['X', 'Z']] # select multiple by providing an array of column indexes"
   ]
  },
  {
   "cell_type": "code",
   "execution_count": 18,
   "id": "a7b394b8-f031-4d39-988c-7e558c0ffade",
   "metadata": {},
   "outputs": [
    {
     "data": {
      "text/plain": [
       "A    0.237771\n",
       "B    0.148881\n",
       "C    0.669889\n",
       "D    0.408466\n",
       "E    0.118812\n",
       "Name: W, dtype: float64"
      ]
     },
     "execution_count": 18,
     "metadata": {},
     "output_type": "execute_result"
    }
   ],
   "source": [
    "# SQL Syntax (NOT RECOMMENDED!)\n",
    "df.W"
   ]
  },
  {
   "cell_type": "markdown",
   "id": "219f7cd2-0b04-4ae4-85bd-4081819acd2e",
   "metadata": {},
   "source": [
    "**Dataframe Columns are just series**"
   ]
  },
  {
   "cell_type": "code",
   "execution_count": 19,
   "id": "511aea1a-fabe-4240-95c7-81ac696d94a5",
   "metadata": {},
   "outputs": [
    {
     "data": {
      "text/plain": [
       "pandas.core.series.Series"
      ]
     },
     "execution_count": 19,
     "metadata": {},
     "output_type": "execute_result"
    }
   ],
   "source": [
    "type(df['X'])"
   ]
  },
  {
   "cell_type": "markdown",
   "id": "8819b50b-0481-49cd-b384-050bfadd9ae1",
   "metadata": {},
   "source": [
    "#### Creating a new column"
   ]
  },
  {
   "cell_type": "code",
   "execution_count": 20,
   "id": "573baa93-1824-4aec-8dea-e2926d79f17c",
   "metadata": {},
   "outputs": [],
   "source": [
    "df['new'] = df['W'] + df['Y'] "
   ]
  },
  {
   "cell_type": "code",
   "execution_count": 22,
   "id": "b5f25f67-1aa7-4f4d-941b-666a34862316",
   "metadata": {},
   "outputs": [
    {
     "data": {
      "text/html": [
       "<div>\n",
       "<style scoped>\n",
       "    .dataframe tbody tr th:only-of-type {\n",
       "        vertical-align: middle;\n",
       "    }\n",
       "\n",
       "    .dataframe tbody tr th {\n",
       "        vertical-align: top;\n",
       "    }\n",
       "\n",
       "    .dataframe thead th {\n",
       "        text-align: right;\n",
       "    }\n",
       "</style>\n",
       "<table border=\"1\" class=\"dataframe\">\n",
       "  <thead>\n",
       "    <tr style=\"text-align: right;\">\n",
       "      <th></th>\n",
       "      <th>W</th>\n",
       "      <th>X</th>\n",
       "      <th>Y</th>\n",
       "      <th>Z</th>\n",
       "      <th>new</th>\n",
       "    </tr>\n",
       "  </thead>\n",
       "  <tbody>\n",
       "    <tr>\n",
       "      <th>A</th>\n",
       "      <td>0.237771</td>\n",
       "      <td>0.029479</td>\n",
       "      <td>0.921123</td>\n",
       "      <td>0.414029</td>\n",
       "      <td>1.158894</td>\n",
       "    </tr>\n",
       "    <tr>\n",
       "      <th>B</th>\n",
       "      <td>0.148881</td>\n",
       "      <td>0.734014</td>\n",
       "      <td>0.105001</td>\n",
       "      <td>0.824356</td>\n",
       "      <td>0.253883</td>\n",
       "    </tr>\n",
       "    <tr>\n",
       "      <th>C</th>\n",
       "      <td>0.669889</td>\n",
       "      <td>0.670316</td>\n",
       "      <td>0.645962</td>\n",
       "      <td>0.041354</td>\n",
       "      <td>1.315851</td>\n",
       "    </tr>\n",
       "    <tr>\n",
       "      <th>D</th>\n",
       "      <td>0.408466</td>\n",
       "      <td>0.612496</td>\n",
       "      <td>0.324035</td>\n",
       "      <td>0.234293</td>\n",
       "      <td>0.732501</td>\n",
       "    </tr>\n",
       "    <tr>\n",
       "      <th>E</th>\n",
       "      <td>0.118812</td>\n",
       "      <td>0.302449</td>\n",
       "      <td>0.003767</td>\n",
       "      <td>0.956487</td>\n",
       "      <td>0.122579</td>\n",
       "    </tr>\n",
       "  </tbody>\n",
       "</table>\n",
       "</div>"
      ],
      "text/plain": [
       "          W         X         Y         Z       new\n",
       "A  0.237771  0.029479  0.921123  0.414029  1.158894\n",
       "B  0.148881  0.734014  0.105001  0.824356  0.253883\n",
       "C  0.669889  0.670316  0.645962  0.041354  1.315851\n",
       "D  0.408466  0.612496  0.324035  0.234293  0.732501\n",
       "E  0.118812  0.302449  0.003767  0.956487  0.122579"
      ]
     },
     "execution_count": 22,
     "metadata": {},
     "output_type": "execute_result"
    }
   ],
   "source": [
    "df # show"
   ]
  },
  {
   "cell_type": "markdown",
   "id": "ab509317-c3f4-4913-b06b-9706a5afb44f",
   "metadata": {},
   "source": [
    "#### Removing Columns"
   ]
  },
  {
   "cell_type": "code",
   "execution_count": 24,
   "id": "b7da1177-0395-418b-b044-663b6d448ec0",
   "metadata": {},
   "outputs": [
    {
     "data": {
      "text/html": [
       "<div>\n",
       "<style scoped>\n",
       "    .dataframe tbody tr th:only-of-type {\n",
       "        vertical-align: middle;\n",
       "    }\n",
       "\n",
       "    .dataframe tbody tr th {\n",
       "        vertical-align: top;\n",
       "    }\n",
       "\n",
       "    .dataframe thead th {\n",
       "        text-align: right;\n",
       "    }\n",
       "</style>\n",
       "<table border=\"1\" class=\"dataframe\">\n",
       "  <thead>\n",
       "    <tr style=\"text-align: right;\">\n",
       "      <th></th>\n",
       "      <th>W</th>\n",
       "      <th>X</th>\n",
       "      <th>Y</th>\n",
       "      <th>Z</th>\n",
       "    </tr>\n",
       "  </thead>\n",
       "  <tbody>\n",
       "    <tr>\n",
       "      <th>A</th>\n",
       "      <td>0.237771</td>\n",
       "      <td>0.029479</td>\n",
       "      <td>0.921123</td>\n",
       "      <td>0.414029</td>\n",
       "    </tr>\n",
       "    <tr>\n",
       "      <th>B</th>\n",
       "      <td>0.148881</td>\n",
       "      <td>0.734014</td>\n",
       "      <td>0.105001</td>\n",
       "      <td>0.824356</td>\n",
       "    </tr>\n",
       "    <tr>\n",
       "      <th>C</th>\n",
       "      <td>0.669889</td>\n",
       "      <td>0.670316</td>\n",
       "      <td>0.645962</td>\n",
       "      <td>0.041354</td>\n",
       "    </tr>\n",
       "    <tr>\n",
       "      <th>D</th>\n",
       "      <td>0.408466</td>\n",
       "      <td>0.612496</td>\n",
       "      <td>0.324035</td>\n",
       "      <td>0.234293</td>\n",
       "    </tr>\n",
       "    <tr>\n",
       "      <th>E</th>\n",
       "      <td>0.118812</td>\n",
       "      <td>0.302449</td>\n",
       "      <td>0.003767</td>\n",
       "      <td>0.956487</td>\n",
       "    </tr>\n",
       "  </tbody>\n",
       "</table>\n",
       "</div>"
      ],
      "text/plain": [
       "          W         X         Y         Z\n",
       "A  0.237771  0.029479  0.921123  0.414029\n",
       "B  0.148881  0.734014  0.105001  0.824356\n",
       "C  0.669889  0.670316  0.645962  0.041354\n",
       "D  0.408466  0.612496  0.324035  0.234293\n",
       "E  0.118812  0.302449  0.003767  0.956487"
      ]
     },
     "execution_count": 24,
     "metadata": {},
     "output_type": "execute_result"
    }
   ],
   "source": [
    "df.drop(\"new\", axis=1)"
   ]
  },
  {
   "cell_type": "code",
   "execution_count": 26,
   "id": "43acaf12-1c96-4836-8837-961e37adb3cc",
   "metadata": {},
   "outputs": [
    {
     "data": {
      "text/html": [
       "<div>\n",
       "<style scoped>\n",
       "    .dataframe tbody tr th:only-of-type {\n",
       "        vertical-align: middle;\n",
       "    }\n",
       "\n",
       "    .dataframe tbody tr th {\n",
       "        vertical-align: top;\n",
       "    }\n",
       "\n",
       "    .dataframe thead th {\n",
       "        text-align: right;\n",
       "    }\n",
       "</style>\n",
       "<table border=\"1\" class=\"dataframe\">\n",
       "  <thead>\n",
       "    <tr style=\"text-align: right;\">\n",
       "      <th></th>\n",
       "      <th>W</th>\n",
       "      <th>X</th>\n",
       "      <th>Y</th>\n",
       "      <th>Z</th>\n",
       "      <th>new</th>\n",
       "    </tr>\n",
       "  </thead>\n",
       "  <tbody>\n",
       "    <tr>\n",
       "      <th>A</th>\n",
       "      <td>0.237771</td>\n",
       "      <td>0.029479</td>\n",
       "      <td>0.921123</td>\n",
       "      <td>0.414029</td>\n",
       "      <td>1.158894</td>\n",
       "    </tr>\n",
       "    <tr>\n",
       "      <th>B</th>\n",
       "      <td>0.148881</td>\n",
       "      <td>0.734014</td>\n",
       "      <td>0.105001</td>\n",
       "      <td>0.824356</td>\n",
       "      <td>0.253883</td>\n",
       "    </tr>\n",
       "    <tr>\n",
       "      <th>C</th>\n",
       "      <td>0.669889</td>\n",
       "      <td>0.670316</td>\n",
       "      <td>0.645962</td>\n",
       "      <td>0.041354</td>\n",
       "      <td>1.315851</td>\n",
       "    </tr>\n",
       "    <tr>\n",
       "      <th>D</th>\n",
       "      <td>0.408466</td>\n",
       "      <td>0.612496</td>\n",
       "      <td>0.324035</td>\n",
       "      <td>0.234293</td>\n",
       "      <td>0.732501</td>\n",
       "    </tr>\n",
       "    <tr>\n",
       "      <th>E</th>\n",
       "      <td>0.118812</td>\n",
       "      <td>0.302449</td>\n",
       "      <td>0.003767</td>\n",
       "      <td>0.956487</td>\n",
       "      <td>0.122579</td>\n",
       "    </tr>\n",
       "  </tbody>\n",
       "</table>\n",
       "</div>"
      ],
      "text/plain": [
       "          W         X         Y         Z       new\n",
       "A  0.237771  0.029479  0.921123  0.414029  1.158894\n",
       "B  0.148881  0.734014  0.105001  0.824356  0.253883\n",
       "C  0.669889  0.670316  0.645962  0.041354  1.315851\n",
       "D  0.408466  0.612496  0.324035  0.234293  0.732501\n",
       "E  0.118812  0.302449  0.003767  0.956487  0.122579"
      ]
     },
     "execution_count": 26,
     "metadata": {},
     "output_type": "execute_result"
    }
   ],
   "source": [
    "# df.drop() does not delete inplace unless specified!\n",
    "df"
   ]
  },
  {
   "cell_type": "code",
   "execution_count": 27,
   "id": "f948ca33-cf72-4e54-a65f-27a0e70699c4",
   "metadata": {},
   "outputs": [
    {
     "data": {
      "text/html": [
       "<div>\n",
       "<style scoped>\n",
       "    .dataframe tbody tr th:only-of-type {\n",
       "        vertical-align: middle;\n",
       "    }\n",
       "\n",
       "    .dataframe tbody tr th {\n",
       "        vertical-align: top;\n",
       "    }\n",
       "\n",
       "    .dataframe thead th {\n",
       "        text-align: right;\n",
       "    }\n",
       "</style>\n",
       "<table border=\"1\" class=\"dataframe\">\n",
       "  <thead>\n",
       "    <tr style=\"text-align: right;\">\n",
       "      <th></th>\n",
       "      <th>W</th>\n",
       "      <th>X</th>\n",
       "      <th>Y</th>\n",
       "      <th>Z</th>\n",
       "    </tr>\n",
       "  </thead>\n",
       "  <tbody>\n",
       "    <tr>\n",
       "      <th>A</th>\n",
       "      <td>0.237771</td>\n",
       "      <td>0.029479</td>\n",
       "      <td>0.921123</td>\n",
       "      <td>0.414029</td>\n",
       "    </tr>\n",
       "    <tr>\n",
       "      <th>B</th>\n",
       "      <td>0.148881</td>\n",
       "      <td>0.734014</td>\n",
       "      <td>0.105001</td>\n",
       "      <td>0.824356</td>\n",
       "    </tr>\n",
       "    <tr>\n",
       "      <th>C</th>\n",
       "      <td>0.669889</td>\n",
       "      <td>0.670316</td>\n",
       "      <td>0.645962</td>\n",
       "      <td>0.041354</td>\n",
       "    </tr>\n",
       "    <tr>\n",
       "      <th>D</th>\n",
       "      <td>0.408466</td>\n",
       "      <td>0.612496</td>\n",
       "      <td>0.324035</td>\n",
       "      <td>0.234293</td>\n",
       "    </tr>\n",
       "    <tr>\n",
       "      <th>E</th>\n",
       "      <td>0.118812</td>\n",
       "      <td>0.302449</td>\n",
       "      <td>0.003767</td>\n",
       "      <td>0.956487</td>\n",
       "    </tr>\n",
       "  </tbody>\n",
       "</table>\n",
       "</div>"
      ],
      "text/plain": [
       "          W         X         Y         Z\n",
       "A  0.237771  0.029479  0.921123  0.414029\n",
       "B  0.148881  0.734014  0.105001  0.824356\n",
       "C  0.669889  0.670316  0.645962  0.041354\n",
       "D  0.408466  0.612496  0.324035  0.234293\n",
       "E  0.118812  0.302449  0.003767  0.956487"
      ]
     },
     "execution_count": 27,
     "metadata": {},
     "output_type": "execute_result"
    }
   ],
   "source": [
    "df.drop('new',axis=1,inplace=True) ## specify inplace attribute OR reassign the result to df\n",
    "\n",
    "df  # show"
   ]
  },
  {
   "cell_type": "markdown",
   "id": "14f33820-7e4e-4dfb-8a8a-ecbef117c8e2",
   "metadata": {},
   "source": [
    "**You can drop rows in a similar way, changing only the axis**"
   ]
  },
  {
   "cell_type": "code",
   "execution_count": 30,
   "id": "27a5150b-51de-476d-9fa6-c37be8c8f371",
   "metadata": {},
   "outputs": [
    {
     "data": {
      "text/html": [
       "<div>\n",
       "<style scoped>\n",
       "    .dataframe tbody tr th:only-of-type {\n",
       "        vertical-align: middle;\n",
       "    }\n",
       "\n",
       "    .dataframe tbody tr th {\n",
       "        vertical-align: top;\n",
       "    }\n",
       "\n",
       "    .dataframe thead th {\n",
       "        text-align: right;\n",
       "    }\n",
       "</style>\n",
       "<table border=\"1\" class=\"dataframe\">\n",
       "  <thead>\n",
       "    <tr style=\"text-align: right;\">\n",
       "      <th></th>\n",
       "      <th>W</th>\n",
       "      <th>X</th>\n",
       "      <th>Y</th>\n",
       "      <th>Z</th>\n",
       "    </tr>\n",
       "  </thead>\n",
       "  <tbody>\n",
       "    <tr>\n",
       "      <th>B</th>\n",
       "      <td>0.148881</td>\n",
       "      <td>0.734014</td>\n",
       "      <td>0.105001</td>\n",
       "      <td>0.824356</td>\n",
       "    </tr>\n",
       "    <tr>\n",
       "      <th>C</th>\n",
       "      <td>0.669889</td>\n",
       "      <td>0.670316</td>\n",
       "      <td>0.645962</td>\n",
       "      <td>0.041354</td>\n",
       "    </tr>\n",
       "    <tr>\n",
       "      <th>D</th>\n",
       "      <td>0.408466</td>\n",
       "      <td>0.612496</td>\n",
       "      <td>0.324035</td>\n",
       "      <td>0.234293</td>\n",
       "    </tr>\n",
       "    <tr>\n",
       "      <th>E</th>\n",
       "      <td>0.118812</td>\n",
       "      <td>0.302449</td>\n",
       "      <td>0.003767</td>\n",
       "      <td>0.956487</td>\n",
       "    </tr>\n",
       "  </tbody>\n",
       "</table>\n",
       "</div>"
      ],
      "text/plain": [
       "          W         X         Y         Z\n",
       "B  0.148881  0.734014  0.105001  0.824356\n",
       "C  0.669889  0.670316  0.645962  0.041354\n",
       "D  0.408466  0.612496  0.324035  0.234293\n",
       "E  0.118812  0.302449  0.003767  0.956487"
      ]
     },
     "execution_count": 30,
     "metadata": {},
     "output_type": "execute_result"
    }
   ],
   "source": [
    "df.drop('A', axis=0) # also not inplace... I think you got that"
   ]
  },
  {
   "cell_type": "markdown",
   "id": "e46caffe-cf10-4dab-ac92-a84231a1fe6c",
   "metadata": {},
   "source": [
    "#### Selecting Rows"
   ]
  },
  {
   "cell_type": "code",
   "execution_count": 34,
   "id": "dd08b20e-49e7-4dc2-830f-bff4fab288f3",
   "metadata": {},
   "outputs": [
    {
     "data": {
      "text/plain": [
       "W    0.237771\n",
       "X    0.029479\n",
       "Y    0.921123\n",
       "Z    0.414029\n",
       "Name: A, dtype: float64"
      ]
     },
     "execution_count": 34,
     "metadata": {},
     "output_type": "execute_result"
    }
   ],
   "source": [
    "df.loc['A']"
   ]
  },
  {
   "cell_type": "markdown",
   "id": "6b5693e4-66d8-472d-a0f0-ff44a59fbabc",
   "metadata": {},
   "source": [
    "**OR selct based on index using iloc**"
   ]
  },
  {
   "cell_type": "code",
   "execution_count": 35,
   "id": "fc06a8a9-169c-4fb5-818b-626ba4c3620c",
   "metadata": {},
   "outputs": [
    {
     "data": {
      "text/plain": [
       "W    0.408466\n",
       "X    0.612496\n",
       "Y    0.324035\n",
       "Z    0.234293\n",
       "Name: D, dtype: float64"
      ]
     },
     "execution_count": 35,
     "metadata": {},
     "output_type": "execute_result"
    }
   ],
   "source": [
    "df.iloc[3]"
   ]
  },
  {
   "cell_type": "markdown",
   "id": "3bccc1a0-aa79-4fc1-9f28-c64634c8a46d",
   "metadata": {},
   "source": [
    "### Selecting subset of rows and columns"
   ]
  },
  {
   "cell_type": "code",
   "execution_count": 37,
   "id": "8089b576-4acf-4368-bda9-3acaec89623c",
   "metadata": {},
   "outputs": [
    {
     "data": {
      "text/plain": [
       "0.10500121537430185"
      ]
     },
     "execution_count": 37,
     "metadata": {},
     "output_type": "execute_result"
    }
   ],
   "source": [
    "df.loc['B', 'Y']  # row B column Y"
   ]
  },
  {
   "cell_type": "code",
   "execution_count": 39,
   "id": "e4dda98c-63ac-4f94-833a-ed5caa4a4d1a",
   "metadata": {},
   "outputs": [
    {
     "data": {
      "text/html": [
       "<div>\n",
       "<style scoped>\n",
       "    .dataframe tbody tr th:only-of-type {\n",
       "        vertical-align: middle;\n",
       "    }\n",
       "\n",
       "    .dataframe tbody tr th {\n",
       "        vertical-align: top;\n",
       "    }\n",
       "\n",
       "    .dataframe thead th {\n",
       "        text-align: right;\n",
       "    }\n",
       "</style>\n",
       "<table border=\"1\" class=\"dataframe\">\n",
       "  <thead>\n",
       "    <tr style=\"text-align: right;\">\n",
       "      <th></th>\n",
       "      <th>X</th>\n",
       "      <th>Z</th>\n",
       "    </tr>\n",
       "  </thead>\n",
       "  <tbody>\n",
       "    <tr>\n",
       "      <th>C</th>\n",
       "      <td>0.670316</td>\n",
       "      <td>0.041354</td>\n",
       "    </tr>\n",
       "    <tr>\n",
       "      <th>D</th>\n",
       "      <td>0.612496</td>\n",
       "      <td>0.234293</td>\n",
       "    </tr>\n",
       "  </tbody>\n",
       "</table>\n",
       "</div>"
      ],
      "text/plain": [
       "          X         Z\n",
       "C  0.670316  0.041354\n",
       "D  0.612496  0.234293"
      ]
     },
     "execution_count": 39,
     "metadata": {},
     "output_type": "execute_result"
    }
   ],
   "source": [
    "df.loc[['C', 'D'],['X', 'Z']]  # multiple columns and/or rows"
   ]
  },
  {
   "cell_type": "markdown",
   "id": "2259bf3c-d65b-41a6-acf0-48b3980e745a",
   "metadata": {},
   "source": [
    "## **Conditional Selection**\n",
    "\n",
    "An important feature of pandas is conditional selection using bracket notation, very similar to numpy:"
   ]
  },
  {
   "cell_type": "code",
   "execution_count": 41,
   "id": "99750684-b1c3-44f4-a898-730a338ce733",
   "metadata": {},
   "outputs": [
    {
     "data": {
      "text/html": [
       "<div>\n",
       "<style scoped>\n",
       "    .dataframe tbody tr th:only-of-type {\n",
       "        vertical-align: middle;\n",
       "    }\n",
       "\n",
       "    .dataframe tbody tr th {\n",
       "        vertical-align: top;\n",
       "    }\n",
       "\n",
       "    .dataframe thead th {\n",
       "        text-align: right;\n",
       "    }\n",
       "</style>\n",
       "<table border=\"1\" class=\"dataframe\">\n",
       "  <thead>\n",
       "    <tr style=\"text-align: right;\">\n",
       "      <th></th>\n",
       "      <th>W</th>\n",
       "      <th>X</th>\n",
       "      <th>Y</th>\n",
       "      <th>Z</th>\n",
       "    </tr>\n",
       "  </thead>\n",
       "  <tbody>\n",
       "    <tr>\n",
       "      <th>A</th>\n",
       "      <td>False</td>\n",
       "      <td>False</td>\n",
       "      <td>True</td>\n",
       "      <td>False</td>\n",
       "    </tr>\n",
       "    <tr>\n",
       "      <th>B</th>\n",
       "      <td>False</td>\n",
       "      <td>True</td>\n",
       "      <td>False</td>\n",
       "      <td>True</td>\n",
       "    </tr>\n",
       "    <tr>\n",
       "      <th>C</th>\n",
       "      <td>True</td>\n",
       "      <td>True</td>\n",
       "      <td>True</td>\n",
       "      <td>False</td>\n",
       "    </tr>\n",
       "    <tr>\n",
       "      <th>D</th>\n",
       "      <td>False</td>\n",
       "      <td>True</td>\n",
       "      <td>False</td>\n",
       "      <td>False</td>\n",
       "    </tr>\n",
       "    <tr>\n",
       "      <th>E</th>\n",
       "      <td>False</td>\n",
       "      <td>False</td>\n",
       "      <td>False</td>\n",
       "      <td>True</td>\n",
       "    </tr>\n",
       "  </tbody>\n",
       "</table>\n",
       "</div>"
      ],
      "text/plain": [
       "       W      X      Y      Z\n",
       "A  False  False   True  False\n",
       "B  False   True  False   True\n",
       "C   True   True   True  False\n",
       "D  False   True  False  False\n",
       "E  False  False  False   True"
      ]
     },
     "execution_count": 41,
     "metadata": {},
     "output_type": "execute_result"
    }
   ],
   "source": [
    "# returns a dataframe of true or false values based on conditional satisfaction\n",
    "df > 0.5"
   ]
  },
  {
   "cell_type": "code",
   "execution_count": 43,
   "id": "14a43bd0-2889-438d-9644-6143ce4acd69",
   "metadata": {},
   "outputs": [
    {
     "data": {
      "text/html": [
       "<div>\n",
       "<style scoped>\n",
       "    .dataframe tbody tr th:only-of-type {\n",
       "        vertical-align: middle;\n",
       "    }\n",
       "\n",
       "    .dataframe tbody tr th {\n",
       "        vertical-align: top;\n",
       "    }\n",
       "\n",
       "    .dataframe thead th {\n",
       "        text-align: right;\n",
       "    }\n",
       "</style>\n",
       "<table border=\"1\" class=\"dataframe\">\n",
       "  <thead>\n",
       "    <tr style=\"text-align: right;\">\n",
       "      <th></th>\n",
       "      <th>W</th>\n",
       "      <th>X</th>\n",
       "      <th>Y</th>\n",
       "      <th>Z</th>\n",
       "    </tr>\n",
       "  </thead>\n",
       "  <tbody>\n",
       "    <tr>\n",
       "      <th>A</th>\n",
       "      <td>NaN</td>\n",
       "      <td>NaN</td>\n",
       "      <td>0.921123</td>\n",
       "      <td>NaN</td>\n",
       "    </tr>\n",
       "    <tr>\n",
       "      <th>B</th>\n",
       "      <td>NaN</td>\n",
       "      <td>0.734014</td>\n",
       "      <td>NaN</td>\n",
       "      <td>0.824356</td>\n",
       "    </tr>\n",
       "    <tr>\n",
       "      <th>C</th>\n",
       "      <td>0.669889</td>\n",
       "      <td>0.670316</td>\n",
       "      <td>0.645962</td>\n",
       "      <td>NaN</td>\n",
       "    </tr>\n",
       "    <tr>\n",
       "      <th>D</th>\n",
       "      <td>NaN</td>\n",
       "      <td>0.612496</td>\n",
       "      <td>NaN</td>\n",
       "      <td>NaN</td>\n",
       "    </tr>\n",
       "    <tr>\n",
       "      <th>E</th>\n",
       "      <td>NaN</td>\n",
       "      <td>NaN</td>\n",
       "      <td>NaN</td>\n",
       "      <td>0.956487</td>\n",
       "    </tr>\n",
       "  </tbody>\n",
       "</table>\n",
       "</div>"
      ],
      "text/plain": [
       "          W         X         Y         Z\n",
       "A       NaN       NaN  0.921123       NaN\n",
       "B       NaN  0.734014       NaN  0.824356\n",
       "C  0.669889  0.670316  0.645962       NaN\n",
       "D       NaN  0.612496       NaN       NaN\n",
       "E       NaN       NaN       NaN  0.956487"
      ]
     },
     "execution_count": 43,
     "metadata": {},
     "output_type": "execute_result"
    }
   ],
   "source": [
    "df[df>0.5] # replaces false with NaN and true with actual value in place"
   ]
  },
  {
   "cell_type": "code",
   "execution_count": 53,
   "id": "d602e442-6772-405e-9214-50d29ef46db4",
   "metadata": {},
   "outputs": [
    {
     "data": {
      "text/html": [
       "<div>\n",
       "<style scoped>\n",
       "    .dataframe tbody tr th:only-of-type {\n",
       "        vertical-align: middle;\n",
       "    }\n",
       "\n",
       "    .dataframe tbody tr th {\n",
       "        vertical-align: top;\n",
       "    }\n",
       "\n",
       "    .dataframe thead th {\n",
       "        text-align: right;\n",
       "    }\n",
       "</style>\n",
       "<table border=\"1\" class=\"dataframe\">\n",
       "  <thead>\n",
       "    <tr style=\"text-align: right;\">\n",
       "      <th></th>\n",
       "      <th>W</th>\n",
       "      <th>X</th>\n",
       "      <th>Y</th>\n",
       "      <th>Z</th>\n",
       "    </tr>\n",
       "  </thead>\n",
       "  <tbody>\n",
       "    <tr>\n",
       "      <th>B</th>\n",
       "      <td>0.148881</td>\n",
       "      <td>0.734014</td>\n",
       "      <td>0.105001</td>\n",
       "      <td>0.824356</td>\n",
       "    </tr>\n",
       "    <tr>\n",
       "      <th>C</th>\n",
       "      <td>0.669889</td>\n",
       "      <td>0.670316</td>\n",
       "      <td>0.645962</td>\n",
       "      <td>0.041354</td>\n",
       "    </tr>\n",
       "    <tr>\n",
       "      <th>D</th>\n",
       "      <td>0.408466</td>\n",
       "      <td>0.612496</td>\n",
       "      <td>0.324035</td>\n",
       "      <td>0.234293</td>\n",
       "    </tr>\n",
       "  </tbody>\n",
       "</table>\n",
       "</div>"
      ],
      "text/plain": [
       "          W         X         Y         Z\n",
       "B  0.148881  0.734014  0.105001  0.824356\n",
       "C  0.669889  0.670316  0.645962  0.041354\n",
       "D  0.408466  0.612496  0.324035  0.234293"
      ]
     },
     "execution_count": 53,
     "metadata": {},
     "output_type": "execute_result"
    }
   ],
   "source": [
    "df[df['X'] > 0.5] # simmilar, only truthy is applied to just the column X\n",
    "# NB:=> also got rid of rows with NaN values"
   ]
  },
  {
   "cell_type": "code",
   "execution_count": 47,
   "id": "d13a1781-79f2-4736-ab14-4ca90f00479d",
   "metadata": {},
   "outputs": [
    {
     "data": {
      "text/plain": [
       "W    0.237771\n",
       "X    0.029479\n",
       "Y    0.921123\n",
       "Z    0.414029\n",
       "Name: A, dtype: float64"
      ]
     },
     "execution_count": 47,
     "metadata": {},
     "output_type": "execute_result"
    }
   ],
   "source": [
    "df[df['Y'] > 0.5].loc['A'] # it returns a dataframe hence result shall support all dataframe methods"
   ]
  },
  {
   "cell_type": "code",
   "execution_count": 55,
   "id": "d9ed44e8-f32f-4c23-84b1-02576906e378",
   "metadata": {},
   "outputs": [
    {
     "data": {
      "text/html": [
       "<div>\n",
       "<style scoped>\n",
       "    .dataframe tbody tr th:only-of-type {\n",
       "        vertical-align: middle;\n",
       "    }\n",
       "\n",
       "    .dataframe tbody tr th {\n",
       "        vertical-align: top;\n",
       "    }\n",
       "\n",
       "    .dataframe thead th {\n",
       "        text-align: right;\n",
       "    }\n",
       "</style>\n",
       "<table border=\"1\" class=\"dataframe\">\n",
       "  <thead>\n",
       "    <tr style=\"text-align: right;\">\n",
       "      <th></th>\n",
       "      <th>W</th>\n",
       "      <th>Z</th>\n",
       "    </tr>\n",
       "  </thead>\n",
       "  <tbody>\n",
       "    <tr>\n",
       "      <th>C</th>\n",
       "      <td>0.669889</td>\n",
       "      <td>0.041354</td>\n",
       "    </tr>\n",
       "    <tr>\n",
       "      <th>B</th>\n",
       "      <td>0.148881</td>\n",
       "      <td>0.824356</td>\n",
       "    </tr>\n",
       "  </tbody>\n",
       "</table>\n",
       "</div>"
      ],
      "text/plain": [
       "          W         Z\n",
       "C  0.669889  0.041354\n",
       "B  0.148881  0.824356"
      ]
     },
     "execution_count": 55,
     "metadata": {},
     "output_type": "execute_result"
    }
   ],
   "source": [
    "df[df['X'] > 0.5].loc[['C', 'B'], ['W', 'Z']]"
   ]
  },
  {
   "cell_type": "code",
   "execution_count": 56,
   "id": "aaeb57c0-42ac-459d-9064-844d10797f9e",
   "metadata": {},
   "outputs": [
    {
     "data": {
      "text/plain": [
       "B    0.824356\n",
       "C    0.041354\n",
       "D    0.234293\n",
       "E    0.956487\n",
       "Name: Z, dtype: float64"
      ]
     },
     "execution_count": 56,
     "metadata": {},
     "output_type": "execute_result"
    }
   ],
   "source": [
    "df[df['Y'] < 0.7]['Z']"
   ]
  },
  {
   "cell_type": "markdown",
   "id": "cd9079a4-4682-4913-b46c-a0b5c02be85a",
   "metadata": {},
   "source": [
    "### **For two conditions use the & and | with parenthesis**"
   ]
  },
  {
   "cell_type": "code",
   "execution_count": 63,
   "id": "508a1463-ac22-4dda-81e3-78b976ea7202",
   "metadata": {},
   "outputs": [
    {
     "data": {
      "text/html": [
       "<div>\n",
       "<style scoped>\n",
       "    .dataframe tbody tr th:only-of-type {\n",
       "        vertical-align: middle;\n",
       "    }\n",
       "\n",
       "    .dataframe tbody tr th {\n",
       "        vertical-align: top;\n",
       "    }\n",
       "\n",
       "    .dataframe thead th {\n",
       "        text-align: right;\n",
       "    }\n",
       "</style>\n",
       "<table border=\"1\" class=\"dataframe\">\n",
       "  <thead>\n",
       "    <tr style=\"text-align: right;\">\n",
       "      <th></th>\n",
       "      <th>W</th>\n",
       "      <th>X</th>\n",
       "      <th>Y</th>\n",
       "      <th>Z</th>\n",
       "    </tr>\n",
       "  </thead>\n",
       "  <tbody>\n",
       "    <tr>\n",
       "      <th>A</th>\n",
       "      <td>0.237771</td>\n",
       "      <td>0.029479</td>\n",
       "      <td>0.921123</td>\n",
       "      <td>0.414029</td>\n",
       "    </tr>\n",
       "    <tr>\n",
       "      <th>C</th>\n",
       "      <td>0.669889</td>\n",
       "      <td>0.670316</td>\n",
       "      <td>0.645962</td>\n",
       "      <td>0.041354</td>\n",
       "    </tr>\n",
       "    <tr>\n",
       "      <th>D</th>\n",
       "      <td>0.408466</td>\n",
       "      <td>0.612496</td>\n",
       "      <td>0.324035</td>\n",
       "      <td>0.234293</td>\n",
       "    </tr>\n",
       "  </tbody>\n",
       "</table>\n",
       "</div>"
      ],
      "text/plain": [
       "          W         X         Y         Z\n",
       "A  0.237771  0.029479  0.921123  0.414029\n",
       "C  0.669889  0.670316  0.645962  0.041354\n",
       "D  0.408466  0.612496  0.324035  0.234293"
      ]
     },
     "execution_count": 63,
     "metadata": {},
     "output_type": "execute_result"
    }
   ],
   "source": [
    "df[(df['W'] > 0.5) | (df['Z'] < 0.5)]"
   ]
  },
  {
   "cell_type": "markdown",
   "id": "42806316-4770-4d8d-b122-f7438e35eb29",
   "metadata": {},
   "source": [
    "## More Index Details\n",
    "\n",
    "Let's discuss some more features of indexing, including resetting the index or setting it something else. We'll also talk about index hierarchy!"
   ]
  },
  {
   "cell_type": "code",
   "execution_count": 64,
   "id": "7c40e1f8-8b99-4a45-bb6f-2151801a248c",
   "metadata": {},
   "outputs": [
    {
     "data": {
      "text/html": [
       "<div>\n",
       "<style scoped>\n",
       "    .dataframe tbody tr th:only-of-type {\n",
       "        vertical-align: middle;\n",
       "    }\n",
       "\n",
       "    .dataframe tbody tr th {\n",
       "        vertical-align: top;\n",
       "    }\n",
       "\n",
       "    .dataframe thead th {\n",
       "        text-align: right;\n",
       "    }\n",
       "</style>\n",
       "<table border=\"1\" class=\"dataframe\">\n",
       "  <thead>\n",
       "    <tr style=\"text-align: right;\">\n",
       "      <th></th>\n",
       "      <th>W</th>\n",
       "      <th>X</th>\n",
       "      <th>Y</th>\n",
       "      <th>Z</th>\n",
       "    </tr>\n",
       "  </thead>\n",
       "  <tbody>\n",
       "    <tr>\n",
       "      <th>A</th>\n",
       "      <td>0.237771</td>\n",
       "      <td>0.029479</td>\n",
       "      <td>0.921123</td>\n",
       "      <td>0.414029</td>\n",
       "    </tr>\n",
       "    <tr>\n",
       "      <th>B</th>\n",
       "      <td>0.148881</td>\n",
       "      <td>0.734014</td>\n",
       "      <td>0.105001</td>\n",
       "      <td>0.824356</td>\n",
       "    </tr>\n",
       "    <tr>\n",
       "      <th>C</th>\n",
       "      <td>0.669889</td>\n",
       "      <td>0.670316</td>\n",
       "      <td>0.645962</td>\n",
       "      <td>0.041354</td>\n",
       "    </tr>\n",
       "    <tr>\n",
       "      <th>D</th>\n",
       "      <td>0.408466</td>\n",
       "      <td>0.612496</td>\n",
       "      <td>0.324035</td>\n",
       "      <td>0.234293</td>\n",
       "    </tr>\n",
       "    <tr>\n",
       "      <th>E</th>\n",
       "      <td>0.118812</td>\n",
       "      <td>0.302449</td>\n",
       "      <td>0.003767</td>\n",
       "      <td>0.956487</td>\n",
       "    </tr>\n",
       "  </tbody>\n",
       "</table>\n",
       "</div>"
      ],
      "text/plain": [
       "          W         X         Y         Z\n",
       "A  0.237771  0.029479  0.921123  0.414029\n",
       "B  0.148881  0.734014  0.105001  0.824356\n",
       "C  0.669889  0.670316  0.645962  0.041354\n",
       "D  0.408466  0.612496  0.324035  0.234293\n",
       "E  0.118812  0.302449  0.003767  0.956487"
      ]
     },
     "execution_count": 64,
     "metadata": {},
     "output_type": "execute_result"
    }
   ],
   "source": [
    "df"
   ]
  },
  {
   "cell_type": "code",
   "execution_count": 65,
   "id": "b7e18521-1098-48b0-9588-90abd8f2ce5b",
   "metadata": {},
   "outputs": [
    {
     "data": {
      "text/html": [
       "<div>\n",
       "<style scoped>\n",
       "    .dataframe tbody tr th:only-of-type {\n",
       "        vertical-align: middle;\n",
       "    }\n",
       "\n",
       "    .dataframe tbody tr th {\n",
       "        vertical-align: top;\n",
       "    }\n",
       "\n",
       "    .dataframe thead th {\n",
       "        text-align: right;\n",
       "    }\n",
       "</style>\n",
       "<table border=\"1\" class=\"dataframe\">\n",
       "  <thead>\n",
       "    <tr style=\"text-align: right;\">\n",
       "      <th></th>\n",
       "      <th>index</th>\n",
       "      <th>W</th>\n",
       "      <th>X</th>\n",
       "      <th>Y</th>\n",
       "      <th>Z</th>\n",
       "    </tr>\n",
       "  </thead>\n",
       "  <tbody>\n",
       "    <tr>\n",
       "      <th>0</th>\n",
       "      <td>A</td>\n",
       "      <td>0.237771</td>\n",
       "      <td>0.029479</td>\n",
       "      <td>0.921123</td>\n",
       "      <td>0.414029</td>\n",
       "    </tr>\n",
       "    <tr>\n",
       "      <th>1</th>\n",
       "      <td>B</td>\n",
       "      <td>0.148881</td>\n",
       "      <td>0.734014</td>\n",
       "      <td>0.105001</td>\n",
       "      <td>0.824356</td>\n",
       "    </tr>\n",
       "    <tr>\n",
       "      <th>2</th>\n",
       "      <td>C</td>\n",
       "      <td>0.669889</td>\n",
       "      <td>0.670316</td>\n",
       "      <td>0.645962</td>\n",
       "      <td>0.041354</td>\n",
       "    </tr>\n",
       "    <tr>\n",
       "      <th>3</th>\n",
       "      <td>D</td>\n",
       "      <td>0.408466</td>\n",
       "      <td>0.612496</td>\n",
       "      <td>0.324035</td>\n",
       "      <td>0.234293</td>\n",
       "    </tr>\n",
       "    <tr>\n",
       "      <th>4</th>\n",
       "      <td>E</td>\n",
       "      <td>0.118812</td>\n",
       "      <td>0.302449</td>\n",
       "      <td>0.003767</td>\n",
       "      <td>0.956487</td>\n",
       "    </tr>\n",
       "  </tbody>\n",
       "</table>\n",
       "</div>"
      ],
      "text/plain": [
       "  index         W         X         Y         Z\n",
       "0     A  0.237771  0.029479  0.921123  0.414029\n",
       "1     B  0.148881  0.734014  0.105001  0.824356\n",
       "2     C  0.669889  0.670316  0.645962  0.041354\n",
       "3     D  0.408466  0.612496  0.324035  0.234293\n",
       "4     E  0.118812  0.302449  0.003767  0.956487"
      ]
     },
     "execution_count": 65,
     "metadata": {},
     "output_type": "execute_result"
    }
   ],
   "source": [
    "df.reset_index() # set index back to original 0,1...n - (not in place)"
   ]
  },
  {
   "cell_type": "code",
   "execution_count": 66,
   "id": "c4306022-fba2-43af-8db0-3342de1eefe5",
   "metadata": {},
   "outputs": [
    {
     "data": {
      "text/html": [
       "<div>\n",
       "<style scoped>\n",
       "    .dataframe tbody tr th:only-of-type {\n",
       "        vertical-align: middle;\n",
       "    }\n",
       "\n",
       "    .dataframe tbody tr th {\n",
       "        vertical-align: top;\n",
       "    }\n",
       "\n",
       "    .dataframe thead th {\n",
       "        text-align: right;\n",
       "    }\n",
       "</style>\n",
       "<table border=\"1\" class=\"dataframe\">\n",
       "  <thead>\n",
       "    <tr style=\"text-align: right;\">\n",
       "      <th></th>\n",
       "      <th>W</th>\n",
       "      <th>X</th>\n",
       "      <th>Y</th>\n",
       "      <th>Z</th>\n",
       "      <th>States</th>\n",
       "    </tr>\n",
       "  </thead>\n",
       "  <tbody>\n",
       "    <tr>\n",
       "      <th>A</th>\n",
       "      <td>0.237771</td>\n",
       "      <td>0.029479</td>\n",
       "      <td>0.921123</td>\n",
       "      <td>0.414029</td>\n",
       "      <td>CA</td>\n",
       "    </tr>\n",
       "    <tr>\n",
       "      <th>B</th>\n",
       "      <td>0.148881</td>\n",
       "      <td>0.734014</td>\n",
       "      <td>0.105001</td>\n",
       "      <td>0.824356</td>\n",
       "      <td>NY</td>\n",
       "    </tr>\n",
       "    <tr>\n",
       "      <th>C</th>\n",
       "      <td>0.669889</td>\n",
       "      <td>0.670316</td>\n",
       "      <td>0.645962</td>\n",
       "      <td>0.041354</td>\n",
       "      <td>WY</td>\n",
       "    </tr>\n",
       "    <tr>\n",
       "      <th>D</th>\n",
       "      <td>0.408466</td>\n",
       "      <td>0.612496</td>\n",
       "      <td>0.324035</td>\n",
       "      <td>0.234293</td>\n",
       "      <td>OR</td>\n",
       "    </tr>\n",
       "    <tr>\n",
       "      <th>E</th>\n",
       "      <td>0.118812</td>\n",
       "      <td>0.302449</td>\n",
       "      <td>0.003767</td>\n",
       "      <td>0.956487</td>\n",
       "      <td>CO</td>\n",
       "    </tr>\n",
       "  </tbody>\n",
       "</table>\n",
       "</div>"
      ],
      "text/plain": [
       "          W         X         Y         Z States\n",
       "A  0.237771  0.029479  0.921123  0.414029     CA\n",
       "B  0.148881  0.734014  0.105001  0.824356     NY\n",
       "C  0.669889  0.670316  0.645962  0.041354     WY\n",
       "D  0.408466  0.612496  0.324035  0.234293     OR\n",
       "E  0.118812  0.302449  0.003767  0.956487     CO"
      ]
     },
     "execution_count": 66,
     "metadata": {},
     "output_type": "execute_result"
    }
   ],
   "source": [
    "newInd = 'CA NY WY OR CO'.split()\n",
    "df['States'] = newInd\n",
    "df"
   ]
  },
  {
   "cell_type": "code",
   "execution_count": 67,
   "id": "978dd1b8-145f-4aa1-bfd1-bcaf3892e181",
   "metadata": {},
   "outputs": [
    {
     "data": {
      "text/html": [
       "<div>\n",
       "<style scoped>\n",
       "    .dataframe tbody tr th:only-of-type {\n",
       "        vertical-align: middle;\n",
       "    }\n",
       "\n",
       "    .dataframe tbody tr th {\n",
       "        vertical-align: top;\n",
       "    }\n",
       "\n",
       "    .dataframe thead th {\n",
       "        text-align: right;\n",
       "    }\n",
       "</style>\n",
       "<table border=\"1\" class=\"dataframe\">\n",
       "  <thead>\n",
       "    <tr style=\"text-align: right;\">\n",
       "      <th></th>\n",
       "      <th>W</th>\n",
       "      <th>X</th>\n",
       "      <th>Y</th>\n",
       "      <th>Z</th>\n",
       "    </tr>\n",
       "    <tr>\n",
       "      <th>States</th>\n",
       "      <th></th>\n",
       "      <th></th>\n",
       "      <th></th>\n",
       "      <th></th>\n",
       "    </tr>\n",
       "  </thead>\n",
       "  <tbody>\n",
       "    <tr>\n",
       "      <th>CA</th>\n",
       "      <td>0.237771</td>\n",
       "      <td>0.029479</td>\n",
       "      <td>0.921123</td>\n",
       "      <td>0.414029</td>\n",
       "    </tr>\n",
       "    <tr>\n",
       "      <th>NY</th>\n",
       "      <td>0.148881</td>\n",
       "      <td>0.734014</td>\n",
       "      <td>0.105001</td>\n",
       "      <td>0.824356</td>\n",
       "    </tr>\n",
       "    <tr>\n",
       "      <th>WY</th>\n",
       "      <td>0.669889</td>\n",
       "      <td>0.670316</td>\n",
       "      <td>0.645962</td>\n",
       "      <td>0.041354</td>\n",
       "    </tr>\n",
       "    <tr>\n",
       "      <th>OR</th>\n",
       "      <td>0.408466</td>\n",
       "      <td>0.612496</td>\n",
       "      <td>0.324035</td>\n",
       "      <td>0.234293</td>\n",
       "    </tr>\n",
       "    <tr>\n",
       "      <th>CO</th>\n",
       "      <td>0.118812</td>\n",
       "      <td>0.302449</td>\n",
       "      <td>0.003767</td>\n",
       "      <td>0.956487</td>\n",
       "    </tr>\n",
       "  </tbody>\n",
       "</table>\n",
       "</div>"
      ],
      "text/plain": [
       "               W         X         Y         Z\n",
       "States                                        \n",
       "CA      0.237771  0.029479  0.921123  0.414029\n",
       "NY      0.148881  0.734014  0.105001  0.824356\n",
       "WY      0.669889  0.670316  0.645962  0.041354\n",
       "OR      0.408466  0.612496  0.324035  0.234293\n",
       "CO      0.118812  0.302449  0.003767  0.956487"
      ]
     },
     "execution_count": 67,
     "metadata": {},
     "output_type": "execute_result"
    }
   ],
   "source": [
    "df.set_index('States') # make as index  (not in place)"
   ]
  },
  {
   "cell_type": "code",
   "execution_count": 68,
   "id": "23a64f4c-fe44-41cf-9411-899d821579eb",
   "metadata": {},
   "outputs": [
    {
     "data": {
      "text/html": [
       "<div>\n",
       "<style scoped>\n",
       "    .dataframe tbody tr th:only-of-type {\n",
       "        vertical-align: middle;\n",
       "    }\n",
       "\n",
       "    .dataframe tbody tr th {\n",
       "        vertical-align: top;\n",
       "    }\n",
       "\n",
       "    .dataframe thead th {\n",
       "        text-align: right;\n",
       "    }\n",
       "</style>\n",
       "<table border=\"1\" class=\"dataframe\">\n",
       "  <thead>\n",
       "    <tr style=\"text-align: right;\">\n",
       "      <th></th>\n",
       "      <th>W</th>\n",
       "      <th>X</th>\n",
       "      <th>Y</th>\n",
       "      <th>Z</th>\n",
       "      <th>States</th>\n",
       "    </tr>\n",
       "  </thead>\n",
       "  <tbody>\n",
       "    <tr>\n",
       "      <th>A</th>\n",
       "      <td>0.237771</td>\n",
       "      <td>0.029479</td>\n",
       "      <td>0.921123</td>\n",
       "      <td>0.414029</td>\n",
       "      <td>CA</td>\n",
       "    </tr>\n",
       "    <tr>\n",
       "      <th>B</th>\n",
       "      <td>0.148881</td>\n",
       "      <td>0.734014</td>\n",
       "      <td>0.105001</td>\n",
       "      <td>0.824356</td>\n",
       "      <td>NY</td>\n",
       "    </tr>\n",
       "    <tr>\n",
       "      <th>C</th>\n",
       "      <td>0.669889</td>\n",
       "      <td>0.670316</td>\n",
       "      <td>0.645962</td>\n",
       "      <td>0.041354</td>\n",
       "      <td>WY</td>\n",
       "    </tr>\n",
       "    <tr>\n",
       "      <th>D</th>\n",
       "      <td>0.408466</td>\n",
       "      <td>0.612496</td>\n",
       "      <td>0.324035</td>\n",
       "      <td>0.234293</td>\n",
       "      <td>OR</td>\n",
       "    </tr>\n",
       "    <tr>\n",
       "      <th>E</th>\n",
       "      <td>0.118812</td>\n",
       "      <td>0.302449</td>\n",
       "      <td>0.003767</td>\n",
       "      <td>0.956487</td>\n",
       "      <td>CO</td>\n",
       "    </tr>\n",
       "  </tbody>\n",
       "</table>\n",
       "</div>"
      ],
      "text/plain": [
       "          W         X         Y         Z States\n",
       "A  0.237771  0.029479  0.921123  0.414029     CA\n",
       "B  0.148881  0.734014  0.105001  0.824356     NY\n",
       "C  0.669889  0.670316  0.645962  0.041354     WY\n",
       "D  0.408466  0.612496  0.324035  0.234293     OR\n",
       "E  0.118812  0.302449  0.003767  0.956487     CO"
      ]
     },
     "execution_count": 68,
     "metadata": {},
     "output_type": "execute_result"
    }
   ],
   "source": [
    "df # NB:=> still not in place"
   ]
  },
  {
   "cell_type": "code",
   "execution_count": 69,
   "id": "f4cf23b3-8ffd-4b8f-bce6-8d1f9183692c",
   "metadata": {},
   "outputs": [],
   "source": [
    "df.set_index('States', inplace=True)"
   ]
  },
  {
   "cell_type": "code",
   "execution_count": 70,
   "id": "43347112-03a3-467f-93ae-3fe843f9c2b9",
   "metadata": {},
   "outputs": [
    {
     "data": {
      "text/html": [
       "<div>\n",
       "<style scoped>\n",
       "    .dataframe tbody tr th:only-of-type {\n",
       "        vertical-align: middle;\n",
       "    }\n",
       "\n",
       "    .dataframe tbody tr th {\n",
       "        vertical-align: top;\n",
       "    }\n",
       "\n",
       "    .dataframe thead th {\n",
       "        text-align: right;\n",
       "    }\n",
       "</style>\n",
       "<table border=\"1\" class=\"dataframe\">\n",
       "  <thead>\n",
       "    <tr style=\"text-align: right;\">\n",
       "      <th></th>\n",
       "      <th>W</th>\n",
       "      <th>X</th>\n",
       "      <th>Y</th>\n",
       "      <th>Z</th>\n",
       "    </tr>\n",
       "    <tr>\n",
       "      <th>States</th>\n",
       "      <th></th>\n",
       "      <th></th>\n",
       "      <th></th>\n",
       "      <th></th>\n",
       "    </tr>\n",
       "  </thead>\n",
       "  <tbody>\n",
       "    <tr>\n",
       "      <th>CA</th>\n",
       "      <td>0.237771</td>\n",
       "      <td>0.029479</td>\n",
       "      <td>0.921123</td>\n",
       "      <td>0.414029</td>\n",
       "    </tr>\n",
       "    <tr>\n",
       "      <th>NY</th>\n",
       "      <td>0.148881</td>\n",
       "      <td>0.734014</td>\n",
       "      <td>0.105001</td>\n",
       "      <td>0.824356</td>\n",
       "    </tr>\n",
       "    <tr>\n",
       "      <th>WY</th>\n",
       "      <td>0.669889</td>\n",
       "      <td>0.670316</td>\n",
       "      <td>0.645962</td>\n",
       "      <td>0.041354</td>\n",
       "    </tr>\n",
       "    <tr>\n",
       "      <th>OR</th>\n",
       "      <td>0.408466</td>\n",
       "      <td>0.612496</td>\n",
       "      <td>0.324035</td>\n",
       "      <td>0.234293</td>\n",
       "    </tr>\n",
       "    <tr>\n",
       "      <th>CO</th>\n",
       "      <td>0.118812</td>\n",
       "      <td>0.302449</td>\n",
       "      <td>0.003767</td>\n",
       "      <td>0.956487</td>\n",
       "    </tr>\n",
       "  </tbody>\n",
       "</table>\n",
       "</div>"
      ],
      "text/plain": [
       "               W         X         Y         Z\n",
       "States                                        \n",
       "CA      0.237771  0.029479  0.921123  0.414029\n",
       "NY      0.148881  0.734014  0.105001  0.824356\n",
       "WY      0.669889  0.670316  0.645962  0.041354\n",
       "OR      0.408466  0.612496  0.324035  0.234293\n",
       "CO      0.118812  0.302449  0.003767  0.956487"
      ]
     },
     "execution_count": 70,
     "metadata": {},
     "output_type": "execute_result"
    }
   ],
   "source": [
    "df #=> done"
   ]
  },
  {
   "cell_type": "markdown",
   "id": "08cd552d-ce3a-49be-9c36-3de94107e5e9",
   "metadata": {},
   "source": [
    "## **Multi-Index and Index Hierarchy**\n",
    "\n",
    "Let's practice how to work with Multi-Index, first we'll create a quick example of what a Multi-Indexed DataFrame would look like:"
   ]
  },
  {
   "cell_type": "code",
   "execution_count": 76,
   "id": "05831a04-40f1-4bf0-bce9-1a83f4d54c87",
   "metadata": {},
   "outputs": [],
   "source": [
    "# index levels\n",
    "outside = ['G1', 'G1', 'G1', 'G2', 'G2', 'G2']\n",
    "inside = [1, 2, 3, 4, 5, 6]\n",
    "hier_index = list(zip(outside, inside))\n",
    "hier_index = pd.MultiIndex.from_tuples(hier_index)"
   ]
  },
  {
   "cell_type": "code",
   "execution_count": 77,
   "id": "4e19da09-1da3-4709-b066-c4b7b5f4da17",
   "metadata": {},
   "outputs": [
    {
     "data": {
      "text/plain": [
       "MultiIndex([('G1', 1),\n",
       "            ('G1', 2),\n",
       "            ('G1', 3),\n",
       "            ('G2', 4),\n",
       "            ('G2', 5),\n",
       "            ('G2', 6)],\n",
       "           )"
      ]
     },
     "execution_count": 77,
     "metadata": {},
     "output_type": "execute_result"
    }
   ],
   "source": [
    "hier_index"
   ]
  },
  {
   "cell_type": "code",
   "execution_count": 81,
   "id": "203f8a10-7d05-4e44-a655-4eae7c6a0a3f",
   "metadata": {},
   "outputs": [],
   "source": [
    "df = pd.DataFrame(randn(6, 2), index=hier_index, columns='A B'.split())"
   ]
  },
  {
   "cell_type": "code",
   "execution_count": 82,
   "id": "ed0b5748-7421-4707-ae0c-b17da1eac388",
   "metadata": {},
   "outputs": [
    {
     "data": {
      "text/html": [
       "<div>\n",
       "<style scoped>\n",
       "    .dataframe tbody tr th:only-of-type {\n",
       "        vertical-align: middle;\n",
       "    }\n",
       "\n",
       "    .dataframe tbody tr th {\n",
       "        vertical-align: top;\n",
       "    }\n",
       "\n",
       "    .dataframe thead th {\n",
       "        text-align: right;\n",
       "    }\n",
       "</style>\n",
       "<table border=\"1\" class=\"dataframe\">\n",
       "  <thead>\n",
       "    <tr style=\"text-align: right;\">\n",
       "      <th></th>\n",
       "      <th></th>\n",
       "      <th>A</th>\n",
       "      <th>B</th>\n",
       "    </tr>\n",
       "  </thead>\n",
       "  <tbody>\n",
       "    <tr>\n",
       "      <th rowspan=\"3\" valign=\"top\">G1</th>\n",
       "      <th>1</th>\n",
       "      <td>0.675916</td>\n",
       "      <td>0.990436</td>\n",
       "    </tr>\n",
       "    <tr>\n",
       "      <th>2</th>\n",
       "      <td>1.036234</td>\n",
       "      <td>-0.256323</td>\n",
       "    </tr>\n",
       "    <tr>\n",
       "      <th>3</th>\n",
       "      <td>0.482995</td>\n",
       "      <td>1.253826</td>\n",
       "    </tr>\n",
       "    <tr>\n",
       "      <th rowspan=\"3\" valign=\"top\">G2</th>\n",
       "      <th>4</th>\n",
       "      <td>0.716587</td>\n",
       "      <td>-1.116121</td>\n",
       "    </tr>\n",
       "    <tr>\n",
       "      <th>5</th>\n",
       "      <td>-1.149636</td>\n",
       "      <td>-1.089989</td>\n",
       "    </tr>\n",
       "    <tr>\n",
       "      <th>6</th>\n",
       "      <td>-0.623961</td>\n",
       "      <td>0.078738</td>\n",
       "    </tr>\n",
       "  </tbody>\n",
       "</table>\n",
       "</div>"
      ],
      "text/plain": [
       "             A         B\n",
       "G1 1  0.675916  0.990436\n",
       "   2  1.036234 -0.256323\n",
       "   3  0.482995  1.253826\n",
       "G2 4  0.716587 -1.116121\n",
       "   5 -1.149636 -1.089989\n",
       "   6 -0.623961  0.078738"
      ]
     },
     "execution_count": 82,
     "metadata": {},
     "output_type": "execute_result"
    }
   ],
   "source": [
    "df"
   ]
  },
  {
   "cell_type": "markdown",
   "id": "3ee3dceb-d6f5-4903-888e-32527156f9f9",
   "metadata": {},
   "source": [
    "**Now let's show how to index this! For index hierarchy we use df.loc[], if this was on the columns axis, you would just use normal bracket notation df[]. Calling one level of the index returns the sub-dataframe:**"
   ]
  },
  {
   "cell_type": "code",
   "execution_count": 83,
   "id": "23889627-97da-4902-bfeb-81f2b51c7d9f",
   "metadata": {},
   "outputs": [
    {
     "data": {
      "text/plain": [
       "G1  1    0.675916\n",
       "    2    1.036234\n",
       "    3    0.482995\n",
       "G2  4    0.716587\n",
       "    5   -1.149636\n",
       "    6   -0.623961\n",
       "Name: A, dtype: float64"
      ]
     },
     "execution_count": 83,
     "metadata": {},
     "output_type": "execute_result"
    }
   ],
   "source": [
    "df['A'] # selecting columns remains the same"
   ]
  },
  {
   "cell_type": "code",
   "execution_count": 84,
   "id": "881f0f2c-b429-44b5-877a-ed4fa8bbc20c",
   "metadata": {},
   "outputs": [
    {
     "data": {
      "text/html": [
       "<div>\n",
       "<style scoped>\n",
       "    .dataframe tbody tr th:only-of-type {\n",
       "        vertical-align: middle;\n",
       "    }\n",
       "\n",
       "    .dataframe tbody tr th {\n",
       "        vertical-align: top;\n",
       "    }\n",
       "\n",
       "    .dataframe thead th {\n",
       "        text-align: right;\n",
       "    }\n",
       "</style>\n",
       "<table border=\"1\" class=\"dataframe\">\n",
       "  <thead>\n",
       "    <tr style=\"text-align: right;\">\n",
       "      <th></th>\n",
       "      <th>A</th>\n",
       "      <th>B</th>\n",
       "    </tr>\n",
       "  </thead>\n",
       "  <tbody>\n",
       "    <tr>\n",
       "      <th>1</th>\n",
       "      <td>0.675916</td>\n",
       "      <td>0.990436</td>\n",
       "    </tr>\n",
       "    <tr>\n",
       "      <th>2</th>\n",
       "      <td>1.036234</td>\n",
       "      <td>-0.256323</td>\n",
       "    </tr>\n",
       "    <tr>\n",
       "      <th>3</th>\n",
       "      <td>0.482995</td>\n",
       "      <td>1.253826</td>\n",
       "    </tr>\n",
       "  </tbody>\n",
       "</table>\n",
       "</div>"
      ],
      "text/plain": [
       "          A         B\n",
       "1  0.675916  0.990436\n",
       "2  1.036234 -0.256323\n",
       "3  0.482995  1.253826"
      ]
     },
     "execution_count": 84,
     "metadata": {},
     "output_type": "execute_result"
    }
   ],
   "source": [
    "df.loc['G1'] # row selection"
   ]
  },
  {
   "cell_type": "code",
   "execution_count": 85,
   "id": "16030a0a-57c8-4715-ac5e-a59a94d0d538",
   "metadata": {},
   "outputs": [
    {
     "data": {
      "text/plain": [
       "A    1.036234\n",
       "B   -0.256323\n",
       "Name: 2, dtype: float64"
      ]
     },
     "execution_count": 85,
     "metadata": {},
     "output_type": "execute_result"
    }
   ],
   "source": [
    "df.loc['G1'].loc[2] # can be chained depending on index layers"
   ]
  },
  {
   "cell_type": "code",
   "execution_count": 86,
   "id": "a4ffcd45-a1c8-4ae7-bc0f-b6e563808dc3",
   "metadata": {},
   "outputs": [
    {
     "data": {
      "text/plain": [
       "FrozenList([None, None])"
      ]
     },
     "execution_count": 86,
     "metadata": {},
     "output_type": "execute_result"
    }
   ],
   "source": [
    "df.index.names # find indexes"
   ]
  },
  {
   "cell_type": "code",
   "execution_count": 87,
   "id": "4e63edbf-c9ac-45fe-9056-263ac784d4a9",
   "metadata": {},
   "outputs": [],
   "source": [
    "df.index.names = 'Group Num'.split()"
   ]
  },
  {
   "cell_type": "code",
   "execution_count": 88,
   "id": "e1ba7d03-5835-43b8-ba0c-7a402ba7307a",
   "metadata": {},
   "outputs": [
    {
     "data": {
      "text/html": [
       "<div>\n",
       "<style scoped>\n",
       "    .dataframe tbody tr th:only-of-type {\n",
       "        vertical-align: middle;\n",
       "    }\n",
       "\n",
       "    .dataframe tbody tr th {\n",
       "        vertical-align: top;\n",
       "    }\n",
       "\n",
       "    .dataframe thead th {\n",
       "        text-align: right;\n",
       "    }\n",
       "</style>\n",
       "<table border=\"1\" class=\"dataframe\">\n",
       "  <thead>\n",
       "    <tr style=\"text-align: right;\">\n",
       "      <th></th>\n",
       "      <th></th>\n",
       "      <th>A</th>\n",
       "      <th>B</th>\n",
       "    </tr>\n",
       "    <tr>\n",
       "      <th>Group</th>\n",
       "      <th>Num</th>\n",
       "      <th></th>\n",
       "      <th></th>\n",
       "    </tr>\n",
       "  </thead>\n",
       "  <tbody>\n",
       "    <tr>\n",
       "      <th rowspan=\"3\" valign=\"top\">G1</th>\n",
       "      <th>1</th>\n",
       "      <td>0.675916</td>\n",
       "      <td>0.990436</td>\n",
       "    </tr>\n",
       "    <tr>\n",
       "      <th>2</th>\n",
       "      <td>1.036234</td>\n",
       "      <td>-0.256323</td>\n",
       "    </tr>\n",
       "    <tr>\n",
       "      <th>3</th>\n",
       "      <td>0.482995</td>\n",
       "      <td>1.253826</td>\n",
       "    </tr>\n",
       "    <tr>\n",
       "      <th rowspan=\"3\" valign=\"top\">G2</th>\n",
       "      <th>4</th>\n",
       "      <td>0.716587</td>\n",
       "      <td>-1.116121</td>\n",
       "    </tr>\n",
       "    <tr>\n",
       "      <th>5</th>\n",
       "      <td>-1.149636</td>\n",
       "      <td>-1.089989</td>\n",
       "    </tr>\n",
       "    <tr>\n",
       "      <th>6</th>\n",
       "      <td>-0.623961</td>\n",
       "      <td>0.078738</td>\n",
       "    </tr>\n",
       "  </tbody>\n",
       "</table>\n",
       "</div>"
      ],
      "text/plain": [
       "                  A         B\n",
       "Group Num                    \n",
       "G1    1    0.675916  0.990436\n",
       "      2    1.036234 -0.256323\n",
       "      3    0.482995  1.253826\n",
       "G2    4    0.716587 -1.116121\n",
       "      5   -1.149636 -1.089989\n",
       "      6   -0.623961  0.078738"
      ]
     },
     "execution_count": 88,
     "metadata": {},
     "output_type": "execute_result"
    }
   ],
   "source": [
    "df # index names applied"
   ]
  },
  {
   "cell_type": "code",
   "execution_count": 90,
   "id": "bf32b5a1-7e13-41a1-8ba6-d89154c8a1bb",
   "metadata": {},
   "outputs": [
    {
     "data": {
      "text/html": [
       "<div>\n",
       "<style scoped>\n",
       "    .dataframe tbody tr th:only-of-type {\n",
       "        vertical-align: middle;\n",
       "    }\n",
       "\n",
       "    .dataframe tbody tr th {\n",
       "        vertical-align: top;\n",
       "    }\n",
       "\n",
       "    .dataframe thead th {\n",
       "        text-align: right;\n",
       "    }\n",
       "</style>\n",
       "<table border=\"1\" class=\"dataframe\">\n",
       "  <thead>\n",
       "    <tr style=\"text-align: right;\">\n",
       "      <th></th>\n",
       "      <th>A</th>\n",
       "      <th>B</th>\n",
       "    </tr>\n",
       "    <tr>\n",
       "      <th>Num</th>\n",
       "      <th></th>\n",
       "      <th></th>\n",
       "    </tr>\n",
       "  </thead>\n",
       "  <tbody>\n",
       "    <tr>\n",
       "      <th>1</th>\n",
       "      <td>0.675916</td>\n",
       "      <td>0.990436</td>\n",
       "    </tr>\n",
       "    <tr>\n",
       "      <th>2</th>\n",
       "      <td>1.036234</td>\n",
       "      <td>-0.256323</td>\n",
       "    </tr>\n",
       "    <tr>\n",
       "      <th>3</th>\n",
       "      <td>0.482995</td>\n",
       "      <td>1.253826</td>\n",
       "    </tr>\n",
       "  </tbody>\n",
       "</table>\n",
       "</div>"
      ],
      "text/plain": [
       "            A         B\n",
       "Num                    \n",
       "1    0.675916  0.990436\n",
       "2    1.036234 -0.256323\n",
       "3    0.482995  1.253826"
      ]
     },
     "execution_count": 90,
     "metadata": {},
     "output_type": "execute_result"
    }
   ],
   "source": [
    "df.xs('G1') # better option for selecting rows"
   ]
  },
  {
   "cell_type": "code",
   "execution_count": 92,
   "id": "866c6c78-147d-4d18-af15-ef420b00ac68",
   "metadata": {},
   "outputs": [
    {
     "data": {
      "text/plain": [
       "A    0.675916\n",
       "B    0.990436\n",
       "Name: (G1, 1), dtype: float64"
      ]
     },
     "execution_count": 92,
     "metadata": {},
     "output_type": "execute_result"
    }
   ],
   "source": [
    "df.xs(('G1', 1))"
   ]
  },
  {
   "cell_type": "code",
   "execution_count": 93,
   "id": "04fd37e4-36d0-44d1-9c68-adc866223964",
   "metadata": {},
   "outputs": [
    {
     "data": {
      "text/plain": [
       "0.9904363622176005"
      ]
     },
     "execution_count": 93,
     "metadata": {},
     "output_type": "execute_result"
    }
   ],
   "source": [
    "df.xs(('G1', 1))['B']"
   ]
  },
  {
   "cell_type": "code",
   "execution_count": 94,
   "id": "89c85397-25fc-404c-8f42-7d661243c9aa",
   "metadata": {},
   "outputs": [
    {
     "data": {
      "text/html": [
       "<div>\n",
       "<style scoped>\n",
       "    .dataframe tbody tr th:only-of-type {\n",
       "        vertical-align: middle;\n",
       "    }\n",
       "\n",
       "    .dataframe tbody tr th {\n",
       "        vertical-align: top;\n",
       "    }\n",
       "\n",
       "    .dataframe thead th {\n",
       "        text-align: right;\n",
       "    }\n",
       "</style>\n",
       "<table border=\"1\" class=\"dataframe\">\n",
       "  <thead>\n",
       "    <tr style=\"text-align: right;\">\n",
       "      <th></th>\n",
       "      <th>A</th>\n",
       "      <th>B</th>\n",
       "    </tr>\n",
       "    <tr>\n",
       "      <th>Group</th>\n",
       "      <th></th>\n",
       "      <th></th>\n",
       "    </tr>\n",
       "  </thead>\n",
       "  <tbody>\n",
       "    <tr>\n",
       "      <th>G1</th>\n",
       "      <td>1.036234</td>\n",
       "      <td>-0.256323</td>\n",
       "    </tr>\n",
       "  </tbody>\n",
       "</table>\n",
       "</div>"
      ],
      "text/plain": [
       "              A         B\n",
       "Group                    \n",
       "G1     1.036234 -0.256323"
      ]
     },
     "execution_count": 94,
     "metadata": {},
     "output_type": "execute_result"
    }
   ],
   "source": [
    "df.xs(2, level='Num') # another style"
   ]
  },
  {
   "cell_type": "markdown",
   "id": "1e870620-fd44-4c1c-8359-2dd7e4dc0b9c",
   "metadata": {},
   "source": [
    "# **Great Job!**"
   ]
  }
 ],
 "metadata": {
  "kernelspec": {
   "display_name": "Python 3 (ipykernel)",
   "language": "python",
   "name": "python3"
  },
  "language_info": {
   "codemirror_mode": {
    "name": "ipython",
    "version": 3
   },
   "file_extension": ".py",
   "mimetype": "text/x-python",
   "name": "python",
   "nbconvert_exporter": "python",
   "pygments_lexer": "ipython3",
   "version": "3.11.7"
  }
 },
 "nbformat": 4,
 "nbformat_minor": 5
}
