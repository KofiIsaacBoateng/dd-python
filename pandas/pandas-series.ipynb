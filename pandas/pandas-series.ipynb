{
 "cells": [
  {
   "cell_type": "markdown",
   "id": "cad020c3-336b-4b34-bf43-d4c5c3cff97d",
   "metadata": {},
   "source": [
    "## PANDAS SERIES"
   ]
  },
  {
   "cell_type": "markdown",
   "id": "83e39d07-0979-4ab6-81c0-f6122dd3767d",
   "metadata": {},
   "source": [
    "A Series is very similar to a NumPy array (in fact it is built on top of the NumPy array object). What differentiates the NumPy array from a Series, is that a Series can have axis labels, meaning it can be indexed by a label, instead of just a number location. It also doesn't need to hold numeric data, it can hold any arbitrary Python Object."
   ]
  },
  {
   "cell_type": "code",
   "execution_count": 1,
   "id": "85e72d40-2418-4b64-8aa9-10e71c64edbe",
   "metadata": {},
   "outputs": [],
   "source": [
    "import numpy as np\n",
    "import pandas as pd"
   ]
  },
  {
   "cell_type": "markdown",
   "id": "1d75a34e-41b4-47d5-be38-649c533afd68",
   "metadata": {},
   "source": [
    "### Creating a Series"
   ]
  },
  {
   "cell_type": "code",
   "execution_count": 5,
   "id": "c95e29a6-8a33-4fb2-813b-b27144f63340",
   "metadata": {},
   "outputs": [],
   "source": [
    "labels = ['a', 'b', 'c', 'd'] # list of strings\n",
    "data = [5, 10, 43, 22] # list of numbers \n",
    "np_data = np.arange(1, 5) # numpy array\n",
    "d = {\"body-count\": 10, \"birth-month\": 12, \"age\": 18, \"score\": 3} # dictionary"
   ]
  },
  {
   "cell_type": "code",
   "execution_count": 4,
   "id": "6a4dd32f-1c82-458c-81d6-99ef47145236",
   "metadata": {},
   "outputs": [
    {
     "data": {
      "text/plain": [
       "a     5\n",
       "b    10\n",
       "c    43\n",
       "d    22\n",
       "dtype: int64"
      ]
     },
     "execution_count": 4,
     "metadata": {},
     "output_type": "execute_result"
    }
   ],
   "source": [
    "pd.Series(data=data, index=labels) # takes a data and an index"
   ]
  },
  {
   "cell_type": "code",
   "execution_count": 6,
   "id": "4ecd5323-51d3-4007-84a8-b7685425e793",
   "metadata": {},
   "outputs": [
    {
     "data": {
      "text/plain": [
       "0     5\n",
       "1    10\n",
       "2    43\n",
       "3    22\n",
       "dtype: int64"
      ]
     },
     "execution_count": 6,
     "metadata": {},
     "output_type": "execute_result"
    }
   ],
   "source": [
    "pd.Series(data) # when a label isn't specified, it uses the usual indexing from 0 as the indexes"
   ]
  },
  {
   "cell_type": "code",
   "execution_count": 7,
   "id": "2f791f07-2a14-4102-bfd4-aa5c35b8b305",
   "metadata": {},
   "outputs": [
    {
     "data": {
      "text/plain": [
       "a    1\n",
       "b    2\n",
       "c    3\n",
       "d    4\n",
       "dtype: int32"
      ]
     },
     "execution_count": 7,
     "metadata": {},
     "output_type": "execute_result"
    }
   ],
   "source": [
    "pd.Series(np_data, labels) # creating a series from a numpy array"
   ]
  },
  {
   "cell_type": "code",
   "execution_count": 6,
   "id": "fa65c8f8-bd3d-47bb-ad75-9c6ef7c15758",
   "metadata": {},
   "outputs": [
    {
     "data": {
      "text/plain": [
       "body-count     10\n",
       "birth-month    12\n",
       "age            18\n",
       "score           3\n",
       "dtype: int64"
      ]
     },
     "execution_count": 6,
     "metadata": {},
     "output_type": "execute_result"
    }
   ],
   "source": [
    "\"\"\"\n",
    "* You can also create a series from a dictionary\n",
    "* Here, the key becomes the index and the value becomes the data\n",
    "* You don't have to pass an index\n",
    "\"\"\"\n",
    "pd.Series(d)"
   ]
  },
  {
   "cell_type": "code",
   "execution_count": 10,
   "id": "520a6981-a125-4e74-a697-b97afda1a914",
   "metadata": {},
   "outputs": [
    {
     "data": {
      "text/plain": [
       "body-count     10\n",
       "birth-month    12\n",
       "age            18\n",
       "score           3\n",
       "dtype: int64"
      ]
     },
     "execution_count": 10,
     "metadata": {},
     "output_type": "execute_result"
    }
   ],
   "source": [
    "# You can, however, pass labels to it as long as the labels match the key\n",
    "labels = [\"body-count\", \"birth-month\", \"age\", \"score\"]\n",
    "pd.Series(d, labels)"
   ]
  },
  {
   "cell_type": "code",
   "execution_count": 11,
   "id": "8d0e35ab-4ec8-4b25-80c6-872921294845",
   "metadata": {},
   "outputs": [
    {
     "data": {
      "text/plain": [
       "x   NaN\n",
       "y   NaN\n",
       "z   NaN\n",
       "a   NaN\n",
       "dtype: float64"
      ]
     },
     "execution_count": 11,
     "metadata": {},
     "output_type": "execute_result"
    }
   ],
   "source": [
    "# If the labels do not match the keys, NaN is returned as it's value\n",
    "only_one_match_labels = [\"x\", \"y\", \"z\", \"a\"]\n",
    "pd.Series(d, only_one_match_labels)"
   ]
  },
  {
   "cell_type": "markdown",
   "id": "606c283d-5a57-460f-a009-0dbe54c5060e",
   "metadata": {},
   "source": [
    "### Data in a Series\n",
    "\n",
    "A pandas Series can hold a variety of object types:"
   ]
  },
  {
   "cell_type": "code",
   "execution_count": 13,
   "id": "f16782d5-2105-4cb8-8431-1edc60b67a73",
   "metadata": {},
   "outputs": [
    {
     "data": {
      "text/plain": [
       "0     body-count\n",
       "1    birth-month\n",
       "2            age\n",
       "3          score\n",
       "dtype: object"
      ]
     },
     "execution_count": 13,
     "metadata": {},
     "output_type": "execute_result"
    }
   ],
   "source": [
    "pd.Series(data=labels) # list"
   ]
  },
  {
   "cell_type": "code",
   "execution_count": 15,
   "id": "d351e080-4c1f-4d6c-9170-9cccacc73fe4",
   "metadata": {},
   "outputs": [
    {
     "data": {
      "text/plain": [
       "0                   <built-in function sum>\n",
       "1                 <built-in function print>\n",
       "2                   <built-in function len>\n",
       "3    <function count at 0x0000017BA15ADDA0>\n",
       "dtype: object"
      ]
     },
     "execution_count": 15,
     "metadata": {},
     "output_type": "execute_result"
    }
   ],
   "source": [
    "def count(b):\n",
    "    return b.length\n",
    "    \n",
    "pd.Series(data=[sum, print, len, count]) # even functions"
   ]
  },
  {
   "cell_type": "markdown",
   "id": "4ede5b35-05fb-43b3-88c3-d748cd819e86",
   "metadata": {},
   "source": [
    "## Using an Index\n",
    "\n",
    "The key to using a Series is understanding its index. Pandas makes use of these index names or numbers by allowing for fast look ups of information (works like a hash table or dictionary)."
   ]
  },
  {
   "cell_type": "code",
   "execution_count": 21,
   "id": "68c9e358-cf7b-4848-88cb-9af82bf52444",
   "metadata": {},
   "outputs": [],
   "source": [
    "serieA = pd.Series(data=[1, 2, 3, 4, 5, 6], index=[\"Banku\", \"Ampesi\", \"Waakye\", \"Akwele\", \"Fufu\", \"Banku\"])"
   ]
  },
  {
   "cell_type": "code",
   "execution_count": 22,
   "id": "48d1828a-2ede-4120-bc92-17a16b84b9d0",
   "metadata": {},
   "outputs": [
    {
     "data": {
      "text/plain": [
       "Banku     1\n",
       "Ampesi    2\n",
       "Waakye    3\n",
       "Akwele    4\n",
       "Fufu      5\n",
       "Banku     6\n",
       "dtype: int64"
      ]
     },
     "execution_count": 22,
     "metadata": {},
     "output_type": "execute_result"
    }
   ],
   "source": [
    "serieA"
   ]
  },
  {
   "cell_type": "code",
   "execution_count": 23,
   "id": "d9a006d5-0313-4cfe-ae51-bc129699e221",
   "metadata": {},
   "outputs": [],
   "source": [
    "serieB =  pd.Series(data=[1, 2, 3, 8, 5, 6], index=[\"Banku\", \"Ampesi\", \"Waakye\", \"Tuozaafi\", \"Fufu\", \"Jollof\"])"
   ]
  },
  {
   "cell_type": "code",
   "execution_count": 24,
   "id": "c7a0cb61-f621-45a1-93da-ca8a7e3b4384",
   "metadata": {},
   "outputs": [
    {
     "data": {
      "text/plain": [
       "Banku       1\n",
       "Ampesi      2\n",
       "Waakye      3\n",
       "Tuozaafi    8\n",
       "Fufu        5\n",
       "Jollof      6\n",
       "dtype: int64"
      ]
     },
     "execution_count": 24,
     "metadata": {},
     "output_type": "execute_result"
    }
   ],
   "source": [
    "serieB"
   ]
  },
  {
   "cell_type": "code",
   "execution_count": 25,
   "id": "ef8f1df4-9fc9-49eb-89b0-d4df863c8b76",
   "metadata": {},
   "outputs": [
    {
     "data": {
      "text/plain": [
       "2"
      ]
     },
     "execution_count": 25,
     "metadata": {},
     "output_type": "execute_result"
    }
   ],
   "source": [
    "serieA[\"Ampesi\"]"
   ]
  },
  {
   "cell_type": "code",
   "execution_count": 26,
   "id": "16befd27-cdcf-4643-ad41-edcd58802763",
   "metadata": {},
   "outputs": [
    {
     "data": {
      "text/plain": [
       "8"
      ]
     },
     "execution_count": 26,
     "metadata": {},
     "output_type": "execute_result"
    }
   ],
   "source": [
    "serieB[\"Tuozaafi\"]"
   ]
  },
  {
   "cell_type": "markdown",
   "id": "cf06dfaa-b0d7-4093-b6ea-c6e264e869f4",
   "metadata": {},
   "source": [
    "Operations are also based on indexing. So should you add two series with unmatching indexes, those indexes shall be replaced with NaN"
   ]
  },
  {
   "cell_type": "code",
   "execution_count": 27,
   "id": "f0f60bc7-dcc8-4869-a751-2cf22af2b50b",
   "metadata": {},
   "outputs": [
    {
     "data": {
      "text/plain": [
       "Akwele       NaN\n",
       "Ampesi       4.0\n",
       "Banku        2.0\n",
       "Banku        7.0\n",
       "Fufu        10.0\n",
       "Jollof       NaN\n",
       "Tuozaafi     NaN\n",
       "Waakye       6.0\n",
       "dtype: float64"
      ]
     },
     "execution_count": 27,
     "metadata": {},
     "output_type": "execute_result"
    }
   ],
   "source": [
    "serieA + serieB"
   ]
  },
  {
   "cell_type": "markdown",
   "id": "5557a10e-ae6f-463f-8376-b9e9175b5d00",
   "metadata": {},
   "source": [
    "# END"
   ]
  }
 ],
 "metadata": {
  "kernelspec": {
   "display_name": "Python 3 (ipykernel)",
   "language": "python",
   "name": "python3"
  },
  "language_info": {
   "codemirror_mode": {
    "name": "ipython",
    "version": 3
   },
   "file_extension": ".py",
   "mimetype": "text/x-python",
   "name": "python",
   "nbconvert_exporter": "python",
   "pygments_lexer": "ipython3",
   "version": "3.11.7"
  }
 },
 "nbformat": 4,
 "nbformat_minor": 5
}
