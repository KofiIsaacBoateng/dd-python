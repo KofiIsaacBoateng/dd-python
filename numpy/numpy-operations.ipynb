{
 "cells": [
  {
   "cell_type": "markdown",
   "id": "c31e01e1-8c43-427c-8c20-78c9a30b4290",
   "metadata": {},
   "source": [
    "## NUMPY OPERATIONS"
   ]
  },
  {
   "cell_type": "markdown",
   "id": "bdabd7d8-ea3b-458a-a6e6-6fc23a1d1621",
   "metadata": {},
   "source": [
    "### Arithmetic Operations\n",
    "You can perform array on array, and scalar on array operations with ease with numpy"
   ]
  },
  {
   "cell_type": "code",
   "execution_count": 2,
   "id": "3434017e-1c8a-4fc6-b994-d720c81cf0d4",
   "metadata": {},
   "outputs": [],
   "source": [
    "import numpy as np"
   ]
  },
  {
   "cell_type": "code",
   "execution_count": 4,
   "id": "3065ef4a-091a-43d9-a8b7-bdbacd5bb6b6",
   "metadata": {},
   "outputs": [
    {
     "data": {
      "text/plain": [
       "array([0, 1, 2, 3, 4, 5, 6, 7])"
      ]
     },
     "execution_count": 4,
     "metadata": {},
     "output_type": "execute_result"
    }
   ],
   "source": [
    "arr = np.arange(0, 8)\n",
    "\n",
    "arr # show"
   ]
  },
  {
   "cell_type": "code",
   "execution_count": 5,
   "id": "3255cd0b-280b-4094-b31c-0fe8f2c67ff0",
   "metadata": {},
   "outputs": [
    {
     "data": {
      "text/plain": [
       "array([ 0,  2,  4,  6,  8, 10, 12, 14])"
      ]
     },
     "execution_count": 5,
     "metadata": {},
     "output_type": "execute_result"
    }
   ],
   "source": [
    "arr + arr # addition"
   ]
  },
  {
   "cell_type": "code",
   "execution_count": 6,
   "id": "d02f55eb-ed68-4fbe-a9dc-6532304f45b4",
   "metadata": {},
   "outputs": [
    {
     "data": {
      "text/plain": [
       "array([0, 0, 0, 0, 0, 0, 0, 0])"
      ]
     },
     "execution_count": 6,
     "metadata": {},
     "output_type": "execute_result"
    }
   ],
   "source": [
    "arr - arr # subtraction"
   ]
  },
  {
   "cell_type": "code",
   "execution_count": 7,
   "id": "0d95a3f6-53f8-4303-9aac-edc5a17ca9ce",
   "metadata": {},
   "outputs": [
    {
     "data": {
      "text/plain": [
       "array([ 0,  1,  4,  9, 16, 25, 36, 49])"
      ]
     },
     "execution_count": 7,
     "metadata": {},
     "output_type": "execute_result"
    }
   ],
   "source": [
    "arr * arr # multiplication"
   ]
  },
  {
   "cell_type": "code",
   "execution_count": 8,
   "id": "dbadd2f2-9b55-46fa-9201-8f978347f028",
   "metadata": {},
   "outputs": [
    {
     "name": "stderr",
     "output_type": "stream",
     "text": [
      "C:\\Users\\Dell\\AppData\\Local\\Temp\\ipykernel_2944\\3765936669.py:2: RuntimeWarning: invalid value encountered in divide\n",
      "  arr / arr # division\n"
     ]
    },
    {
     "data": {
      "text/plain": [
       "array([nan,  1.,  1.,  1.,  1.,  1.,  1.,  1.])"
      ]
     },
     "execution_count": 8,
     "metadata": {},
     "output_type": "execute_result"
    }
   ],
   "source": [
    "# zero by division warning (not error) will occur - so because answer is replaced with nan\n",
    "arr / arr # division"
   ]
  },
  {
   "cell_type": "code",
   "execution_count": 9,
   "id": "e616f09a-e83d-4169-9146-363560eca721",
   "metadata": {},
   "outputs": [
    {
     "name": "stderr",
     "output_type": "stream",
     "text": [
      "C:\\Users\\Dell\\AppData\\Local\\Temp\\ipykernel_2944\\402844737.py:2: RuntimeWarning: divide by zero encountered in divide\n",
      "  1 / arr # another division anomaly\n"
     ]
    },
    {
     "data": {
      "text/plain": [
       "array([       inf, 1.        , 0.5       , 0.33333333, 0.25      ,\n",
       "       0.2       , 0.16666667, 0.14285714])"
      ]
     },
     "execution_count": 9,
     "metadata": {},
     "output_type": "execute_result"
    }
   ],
   "source": [
    "# here 0 is replaced with inf(infinity) instead of nan\n",
    "1 / arr # another division anomaly"
   ]
  },
  {
   "cell_type": "code",
   "execution_count": 10,
   "id": "571325cc-d6cb-4bab-b0f5-7afb7ce7293d",
   "metadata": {},
   "outputs": [
    {
     "data": {
      "text/plain": [
       "array([ 5,  6,  7,  8,  9, 10, 11, 12])"
      ]
     },
     "execution_count": 10,
     "metadata": {},
     "output_type": "execute_result"
    }
   ],
   "source": [
    "arr + 5 # addition with a scalar"
   ]
  },
  {
   "cell_type": "code",
   "execution_count": 11,
   "id": "126e0117-3d2f-4cce-8e44-1f05a387d891",
   "metadata": {},
   "outputs": [
    {
     "data": {
      "text/plain": [
       "array([-5, -4, -3, -2, -1,  0,  1,  2])"
      ]
     },
     "execution_count": 11,
     "metadata": {},
     "output_type": "execute_result"
    }
   ],
   "source": [
    "arr - 5 # subtraction with a scalar"
   ]
  },
  {
   "cell_type": "code",
   "execution_count": 12,
   "id": "455accce-e2e0-4fc6-83f7-bc672b279b35",
   "metadata": {},
   "outputs": [
    {
     "data": {
      "text/plain": [
       "array([ 0,  1,  4,  9, 16, 25, 36, 49])"
      ]
     },
     "execution_count": 12,
     "metadata": {},
     "output_type": "execute_result"
    }
   ],
   "source": [
    "arr ** 2 # square...\n",
    "\n",
    "# and so on"
   ]
  },
  {
   "cell_type": "markdown",
   "id": "385b263b-c5c3-4280-a006-5e3247fe8d41",
   "metadata": {},
   "source": [
    "## Universal Array Functions\n",
    "Numpy comes with many [universal array functions](http://docs.scipy.org/doc/numpy/reference/ufuncs.html), which are essentially just mathematical operations you can use to perform the operation across the array."
   ]
  },
  {
   "cell_type": "code",
   "execution_count": 14,
   "id": "51960b47-65fc-4159-9659-f6d6120f7273",
   "metadata": {},
   "outputs": [
    {
     "data": {
      "text/plain": [
       "array([ 0,  1,  2,  3,  4,  5,  6,  7,  8,  9, 10])"
      ]
     },
     "execution_count": 14,
     "metadata": {},
     "output_type": "execute_result"
    }
   ],
   "source": [
    "_arr = np.arange(0, 11)\n",
    "\n",
    "_arr"
   ]
  },
  {
   "cell_type": "code",
   "execution_count": 17,
   "id": "c3bf86cf-7323-4893-a24c-c46cde2f85fd",
   "metadata": {},
   "outputs": [
    {
     "data": {
      "text/plain": [
       "array([0.        , 1.        , 1.41421356, 1.73205081, 2.        ,\n",
       "       2.23606798, 2.44948974, 2.64575131, 2.82842712, 3.        ,\n",
       "       3.16227766])"
      ]
     },
     "execution_count": 17,
     "metadata": {},
     "output_type": "execute_result"
    }
   ],
   "source": [
    "np.sqrt(_arr)"
   ]
  },
  {
   "cell_type": "code",
   "execution_count": 18,
   "id": "f503ff14-febb-4b78-b557-f65d6c3e1453",
   "metadata": {},
   "outputs": [
    {
     "data": {
      "text/plain": [
       "array([1.00000000e+00, 2.71828183e+00, 7.38905610e+00, 2.00855369e+01,\n",
       "       5.45981500e+01, 1.48413159e+02, 4.03428793e+02, 1.09663316e+03,\n",
       "       2.98095799e+03, 8.10308393e+03, 2.20264658e+04])"
      ]
     },
     "execution_count": 18,
     "metadata": {},
     "output_type": "execute_result"
    }
   ],
   "source": [
    "np.exp(_arr) # exp e^"
   ]
  },
  {
   "cell_type": "code",
   "execution_count": 19,
   "id": "1fe59028-853a-47ca-87b6-e364f735c768",
   "metadata": {},
   "outputs": [
    {
     "data": {
      "text/plain": [
       "10"
      ]
     },
     "execution_count": 19,
     "metadata": {},
     "output_type": "execute_result"
    }
   ],
   "source": [
    "np.max(_arr) # max of _arr"
   ]
  },
  {
   "cell_type": "code",
   "execution_count": 21,
   "id": "9b40ab47-6b60-43e7-a84a-f8c4bd6cbc4c",
   "metadata": {},
   "outputs": [
    {
     "data": {
      "text/plain": [
       "0"
      ]
     },
     "execution_count": 21,
     "metadata": {},
     "output_type": "execute_result"
    }
   ],
   "source": [
    "np.min(_arr) # assuming min"
   ]
  },
  {
   "cell_type": "code",
   "execution_count": 22,
   "id": "3f27646e-9833-41ac-80c6-101779ff35d3",
   "metadata": {},
   "outputs": [
    {
     "data": {
      "text/plain": [
       "array([ 0.        ,  0.84147098,  0.90929743,  0.14112001, -0.7568025 ,\n",
       "       -0.95892427, -0.2794155 ,  0.6569866 ,  0.98935825,  0.41211849,\n",
       "       -0.54402111])"
      ]
     },
     "execution_count": 22,
     "metadata": {},
     "output_type": "execute_result"
    }
   ],
   "source": [
    "np.sin(_arr) # sin"
   ]
  },
  {
   "cell_type": "code",
   "execution_count": 23,
   "id": "c6f4350d-c423-4d99-ad0a-5501f83e35e7",
   "metadata": {},
   "outputs": [
    {
     "data": {
      "text/plain": [
       "array([ 1.        ,  0.54030231, -0.41614684, -0.9899925 , -0.65364362,\n",
       "        0.28366219,  0.96017029,  0.75390225, -0.14550003, -0.91113026,\n",
       "       -0.83907153])"
      ]
     },
     "execution_count": 23,
     "metadata": {},
     "output_type": "execute_result"
    }
   ],
   "source": [
    "np.cos(_arr) # cos"
   ]
  },
  {
   "cell_type": "code",
   "execution_count": 25,
   "id": "47a6d983-76a9-4820-a4bd-5153a5f6a6bb",
   "metadata": {},
   "outputs": [
    {
     "name": "stderr",
     "output_type": "stream",
     "text": [
      "C:\\Users\\Dell\\AppData\\Local\\Temp\\ipykernel_2944\\3424829162.py:2: RuntimeWarning: divide by zero encountered in log\n",
      "  np.log(_arr) # another division by zero scenario.\n"
     ]
    },
    {
     "data": {
      "text/plain": [
       "array([      -inf, 0.        , 0.69314718, 1.09861229, 1.38629436,\n",
       "       1.60943791, 1.79175947, 1.94591015, 2.07944154, 2.19722458,\n",
       "       2.30258509])"
      ]
     },
     "execution_count": 25,
     "metadata": {},
     "output_type": "execute_result"
    }
   ],
   "source": [
    "# zero gets replaced by -inf\n",
    "np.log(_arr) # another division by zero scenario."
   ]
  },
  {
   "cell_type": "code",
   "execution_count": null,
   "id": "5016b7d7-558d-4d4a-b775-ff022edf240e",
   "metadata": {},
   "outputs": [],
   "source": []
  }
 ],
 "metadata": {
  "kernelspec": {
   "display_name": "Python 3 (ipykernel)",
   "language": "python",
   "name": "python3"
  },
  "language_info": {
   "codemirror_mode": {
    "name": "ipython",
    "version": 3
   },
   "file_extension": ".py",
   "mimetype": "text/x-python",
   "name": "python",
   "nbconvert_exporter": "python",
   "pygments_lexer": "ipython3",
   "version": "3.11.7"
  }
 },
 "nbformat": 4,
 "nbformat_minor": 5
}
