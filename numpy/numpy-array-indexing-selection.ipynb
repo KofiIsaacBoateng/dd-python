{
 "cells": [
  {
   "cell_type": "markdown",
   "id": "f5db56e9-6a3b-474c-bd16-faf180df023c",
   "metadata": {},
   "source": [
    "## NUMPY INDEXING AND SELECTION"
   ]
  },
  {
   "cell_type": "markdown",
   "id": "936daf7e-7218-4461-b278-484c3b234f80",
   "metadata": {},
   "source": [
    "How to basically grab elements from a numpy array"
   ]
  },
  {
   "cell_type": "code",
   "execution_count": 1,
   "id": "bde86763-2ae8-40c1-ac30-7b22a199120d",
   "metadata": {},
   "outputs": [],
   "source": [
    "import numpy as np"
   ]
  },
  {
   "cell_type": "code",
   "execution_count": 4,
   "id": "25f7dc55-3e93-46dd-9c96-60cb6c0936da",
   "metadata": {},
   "outputs": [],
   "source": [
    "arr = np.arange(15) # create an array"
   ]
  },
  {
   "cell_type": "code",
   "execution_count": 5,
   "id": "337e2cff-bfd1-409d-92c1-00c7c32a7f28",
   "metadata": {},
   "outputs": [
    {
     "data": {
      "text/plain": [
       "array([ 0,  1,  2,  3,  4,  5,  6,  7,  8,  9, 10, 11, 12, 13, 14])"
      ]
     },
     "execution_count": 5,
     "metadata": {},
     "output_type": "execute_result"
    }
   ],
   "source": [
    "arr # display"
   ]
  },
  {
   "cell_type": "markdown",
   "id": "4c3bb8a8-e3ed-4a1c-8979-d3e05a794aa0",
   "metadata": {},
   "source": [
    "### Bracket Indexing and Selection\n",
    "Similar to what we have in python lists"
   ]
  },
  {
   "cell_type": "code",
   "execution_count": 6,
   "id": "3037b47e-30e1-4405-b1bd-88c06e951641",
   "metadata": {},
   "outputs": [
    {
     "data": {
      "text/plain": [
       "5"
      ]
     },
     "execution_count": 6,
     "metadata": {},
     "output_type": "execute_result"
    }
   ],
   "source": [
    "arr[5]"
   ]
  },
  {
   "cell_type": "code",
   "execution_count": 9,
   "id": "133cf36a-0038-4dc3-9673-1a2bdd3a5036",
   "metadata": {},
   "outputs": [
    {
     "data": {
      "text/plain": [
       "array([ 8,  9, 10])"
      ]
     },
     "execution_count": 9,
     "metadata": {},
     "output_type": "execute_result"
    }
   ],
   "source": [
    "arr[8:11]"
   ]
  },
  {
   "cell_type": "code",
   "execution_count": 14,
   "id": "14da3e4c-13d6-471e-a883-9f2ad4ba4f3e",
   "metadata": {},
   "outputs": [
    {
     "data": {
      "text/plain": [
       "array([0, 1, 2, 3])"
      ]
     },
     "execution_count": 14,
     "metadata": {},
     "output_type": "execute_result"
    }
   ],
   "source": [
    "arr[:4]"
   ]
  },
  {
   "cell_type": "code",
   "execution_count": 15,
   "id": "94f60e3e-f3ec-429e-8219-86f285520d45",
   "metadata": {},
   "outputs": [
    {
     "data": {
      "text/plain": [
       "array([12, 13, 14])"
      ]
     },
     "execution_count": 15,
     "metadata": {},
     "output_type": "execute_result"
    }
   ],
   "source": [
    "arr[12:]"
   ]
  },
  {
   "cell_type": "markdown",
   "id": "c793aadf-f1d4-49c3-a222-b5701aacd45e",
   "metadata": {},
   "source": [
    "### Broadcasting\n",
    "One difference between numpy arrays and lists is that values can be broadcast through them. "
   ]
  },
  {
   "cell_type": "code",
   "execution_count": 16,
   "id": "54f58fbb-db20-4b62-b218-50591f6a42d0",
   "metadata": {},
   "outputs": [
    {
     "data": {
      "text/plain": [
       "array([50, 50, 50, 50, 50,  5,  6,  7,  8,  9, 10, 11, 12, 13, 14])"
      ]
     },
     "execution_count": 16,
     "metadata": {},
     "output_type": "execute_result"
    }
   ],
   "source": [
    "# populating the first 5 items in arr with 50\n",
    "arr[0:5] = 50\n",
    "\n",
    "arr"
   ]
  },
  {
   "cell_type": "code",
   "execution_count": 17,
   "id": "c4b3d708-c869-456b-a5df-08ea956e4bb2",
   "metadata": {},
   "outputs": [
    {
     "data": {
      "text/plain": [
       "array([ 0,  1,  2,  3,  4,  5,  6,  7,  8,  9, 10])"
      ]
     },
     "execution_count": 17,
     "metadata": {},
     "output_type": "execute_result"
    }
   ],
   "source": [
    "# Reseting arr \n",
    "arr = np.arange(0, 11)\n",
    "\n",
    "arr # show"
   ]
  },
  {
   "cell_type": "code",
   "execution_count": 18,
   "id": "9511d230-4bdb-468f-b1c2-0b2504bdaa94",
   "metadata": {},
   "outputs": [],
   "source": [
    "# Pay attention to what is about to happen below"
   ]
  },
  {
   "cell_type": "code",
   "execution_count": 20,
   "id": "7501f967-5aac-4ccf-a28c-942e68358a3e",
   "metadata": {},
   "outputs": [
    {
     "data": {
      "text/plain": [
       "array([77, 77, 77, 77])"
      ]
     },
     "execution_count": 20,
     "metadata": {},
     "output_type": "execute_result"
    }
   ],
   "source": [
    "# creating a slice of arr\n",
    "slice_of_arr = arr[7:]\n",
    "\n",
    "slice_of_arr[:] = 77 # broadcasting entire slice with 77\n",
    "\n",
    "slice_of_arr"
   ]
  },
  {
   "cell_type": "code",
   "execution_count": 21,
   "id": "340023ed-0b92-4130-aa03-df909b8fa516",
   "metadata": {},
   "outputs": [
    {
     "data": {
      "text/plain": [
       "array([ 0,  1,  2,  3,  4,  5,  6, 77, 77, 77, 77])"
      ]
     },
     "execution_count": 21,
     "metadata": {},
     "output_type": "execute_result"
    }
   ],
   "source": [
    "# Notice the output after running this cell\n",
    "\n",
    "arr"
   ]
  },
  {
   "cell_type": "markdown",
   "id": "b2b0b908-f201-4e14-a79d-42ba02fa87bd",
   "metadata": {},
   "source": [
    "Broadcasting the slice seems to have affected the original array"
   ]
  },
  {
   "cell_type": "markdown",
   "id": "9950005f-5893-4fca-afe7-ebef964f6d42",
   "metadata": {},
   "source": [
    "Data is not copied. It's a view of the original array. This prevents memory issues."
   ]
  },
  {
   "cell_type": "code",
   "execution_count": 22,
   "id": "150a66c8-d911-4aca-a4c8-2641369e5cb8",
   "metadata": {},
   "outputs": [
    {
     "data": {
      "text/plain": [
       "array([ 0,  1,  2,  3,  4,  5,  6, 77, 77, 77, 77])"
      ]
     },
     "execution_count": 22,
     "metadata": {},
     "output_type": "execute_result"
    }
   ],
   "source": [
    "# To fix this, explicitly make a copy of the array\n",
    "arr_copy = arr.copy()\n",
    "\n",
    "arr_copy"
   ]
  },
  {
   "cell_type": "code",
   "execution_count": 25,
   "id": "299ae41a-29a0-4035-840e-a3cc6a4396d7",
   "metadata": {},
   "outputs": [
    {
     "data": {
      "text/plain": [
       "array([77, 77, 77, 77])"
      ]
     },
     "execution_count": 25,
     "metadata": {},
     "output_type": "execute_result"
    }
   ],
   "source": [
    "slice_of_arr_copy = arr_copy[7:]\n",
    "\n",
    "slice_of_arr_copy"
   ]
  },
  {
   "cell_type": "code",
   "execution_count": 26,
   "id": "f0c0e82e-0a5a-47be-add8-38340bb9227c",
   "metadata": {},
   "outputs": [
    {
     "data": {
      "text/plain": [
       "array([99, 99, 99, 99])"
      ]
     },
     "execution_count": 26,
     "metadata": {},
     "output_type": "execute_result"
    }
   ],
   "source": [
    "slice_of_arr_copy[:] = 99\n",
    "\n",
    "slice_of_arr_copy"
   ]
  },
  {
   "cell_type": "code",
   "execution_count": 27,
   "id": "8ff53a01-760e-4b85-91ff-a351ec92fc1b",
   "metadata": {},
   "outputs": [
    {
     "data": {
      "text/plain": [
       "array([ 0,  1,  2,  3,  4,  5,  6, 99, 99, 99, 99])"
      ]
     },
     "execution_count": 27,
     "metadata": {},
     "output_type": "execute_result"
    }
   ],
   "source": [
    "arr_copy # copy changes"
   ]
  },
  {
   "cell_type": "code",
   "execution_count": 28,
   "id": "7b588d39-ba6d-48e3-8d98-615a1936807c",
   "metadata": {},
   "outputs": [
    {
     "data": {
      "text/plain": [
       "array([ 0,  1,  2,  3,  4,  5,  6, 77, 77, 77, 77])"
      ]
     },
     "execution_count": 28,
     "metadata": {},
     "output_type": "execute_result"
    }
   ],
   "source": [
    "arr # original remains intact"
   ]
  },
  {
   "cell_type": "markdown",
   "id": "f07929be-23fd-411c-b195-bbde298654f2",
   "metadata": {},
   "source": [
    "### Indexing of 2D Array(matrices)\n",
    "General format is _2D[row][col] or _2D[row, col] (recommended)"
   ]
  },
  {
   "cell_type": "code",
   "execution_count": 29,
   "id": "eefb03eb-3293-433c-a874-2f2045f8e0bd",
   "metadata": {},
   "outputs": [
    {
     "data": {
      "text/plain": [
       "array([[1, 2, 3],\n",
       "       [4, 5, 6],\n",
       "       [7, 8, 9]])"
      ]
     },
     "execution_count": 29,
     "metadata": {},
     "output_type": "execute_result"
    }
   ],
   "source": [
    "_2D = np.array([[1, 2, 3], [4, 5, 6], [7, 8, 9]])\n",
    "\n",
    "_2D # show"
   ]
  },
  {
   "cell_type": "code",
   "execution_count": 30,
   "id": "6b7ea71e-7b7f-4fe9-b37c-18f6d2f632bd",
   "metadata": {},
   "outputs": [
    {
     "data": {
      "text/plain": [
       "array([7, 8, 9])"
      ]
     },
     "execution_count": 30,
     "metadata": {},
     "output_type": "execute_result"
    }
   ],
   "source": [
    "_2D[2] # accessing row at index 2"
   ]
  },
  {
   "cell_type": "code",
   "execution_count": 31,
   "id": "e20fc50d-abce-4bbd-af09-6fc3067881fd",
   "metadata": {},
   "outputs": [
    {
     "data": {
      "text/plain": [
       "7"
      ]
     },
     "execution_count": 31,
     "metadata": {},
     "output_type": "execute_result"
    }
   ],
   "source": [
    "_2D[2][0] # column index 0 of row index 2"
   ]
  },
  {
   "cell_type": "code",
   "execution_count": 32,
   "id": "0a2a8b29-8802-4ba7-8637-4e7ee439078e",
   "metadata": {},
   "outputs": [
    {
     "data": {
      "text/plain": [
       "7"
      ]
     },
     "execution_count": 32,
     "metadata": {},
     "output_type": "execute_result"
    }
   ],
   "source": [
    "_2D[2, 0] # alternative ( recommended )"
   ]
  },
  {
   "cell_type": "code",
   "execution_count": 34,
   "id": "a2c12392-7bf6-4f3f-af2d-e76be8e4d633",
   "metadata": {},
   "outputs": [
    {
     "data": {
      "text/plain": [
       "array([[2, 3],\n",
       "       [5, 6],\n",
       "       [8, 9]])"
      ]
     },
     "execution_count": 34,
     "metadata": {},
     "output_type": "execute_result"
    }
   ],
   "source": [
    "## 2D array slicing\n",
    "\n",
    "_2D[:, 1:] # shape (2, 3)"
   ]
  },
  {
   "cell_type": "code",
   "execution_count": 35,
   "id": "3259dba0-177f-4d98-8b4b-d50c26c693dd",
   "metadata": {},
   "outputs": [
    {
     "data": {
      "text/plain": [
       "array([7, 8, 9])"
      ]
     },
     "execution_count": 35,
     "metadata": {},
     "output_type": "execute_result"
    }
   ],
   "source": [
    "# Shape of bottom row\n",
    "_2D[2]"
   ]
  },
  {
   "cell_type": "code",
   "execution_count": 36,
   "id": "082d1938-e8ba-4d1f-8e71-5affa3720bfe",
   "metadata": {},
   "outputs": [
    {
     "data": {
      "text/plain": [
       "array([7, 8, 9])"
      ]
     },
     "execution_count": 36,
     "metadata": {},
     "output_type": "execute_result"
    }
   ],
   "source": [
    "# OR shape of bottom row\n",
    "_2D[2, :]"
   ]
  },
  {
   "cell_type": "markdown",
   "id": "35052d07-0c52-467a-8dcc-dc8f3ef43392",
   "metadata": {},
   "source": [
    "### Fancy Indexing\n",
    "Allows you to select entire rows or columns out of order. "
   ]
  },
  {
   "cell_type": "code",
   "execution_count": 42,
   "id": "27180449-7cb4-4d7d-80bc-d220a3100756",
   "metadata": {},
   "outputs": [
    {
     "data": {
      "text/plain": [
       "array([[0., 0., 0., 0., 0.],\n",
       "       [0., 0., 0., 0., 0.],\n",
       "       [0., 0., 0., 0., 0.],\n",
       "       [0., 0., 0., 0., 0.],\n",
       "       [0., 0., 0., 0., 0.],\n",
       "       [0., 0., 0., 0., 0.],\n",
       "       [0., 0., 0., 0., 0.],\n",
       "       [0., 0., 0., 0., 0.],\n",
       "       [0., 0., 0., 0., 0.],\n",
       "       [0., 0., 0., 0., 0.]])"
      ]
     },
     "execution_count": 42,
     "metadata": {},
     "output_type": "execute_result"
    }
   ],
   "source": [
    "__2D = np.zeros((10, 5))\n",
    "\n",
    "__2D # show"
   ]
  },
  {
   "cell_type": "code",
   "execution_count": 46,
   "id": "9c554a1a-7a72-4453-be01-fcf70c02ceaf",
   "metadata": {},
   "outputs": [],
   "source": [
    "# Length of array\n",
    "length_of_array = __2D.shape[0]"
   ]
  },
  {
   "cell_type": "code",
   "execution_count": 47,
   "id": "bffa2343-4301-4011-b536-808d5885b07c",
   "metadata": {},
   "outputs": [
    {
     "data": {
      "text/plain": [
       "array([[0., 0., 0., 0., 0.],\n",
       "       [1., 1., 1., 1., 1.],\n",
       "       [2., 2., 2., 2., 2.],\n",
       "       [3., 3., 3., 3., 3.],\n",
       "       [4., 4., 4., 4., 4.],\n",
       "       [5., 5., 5., 5., 5.],\n",
       "       [6., 6., 6., 6., 6.],\n",
       "       [7., 7., 7., 7., 7.],\n",
       "       [8., 8., 8., 8., 8.],\n",
       "       [9., 9., 9., 9., 9.]])"
      ]
     },
     "execution_count": 47,
     "metadata": {},
     "output_type": "execute_result"
    }
   ],
   "source": [
    "# setup content of __2D\n",
    "\n",
    "for row in range(length_of_array):\n",
    "    __2D[row] = row\n",
    "\n",
    "__2D # show"
   ]
  },
  {
   "cell_type": "markdown",
   "id": "5f673011-43a4-415c-9a17-2d5f3b43aead",
   "metadata": {},
   "source": [
    "Fancy indexing allows you to grap entire rows like this"
   ]
  },
  {
   "cell_type": "code",
   "execution_count": 48,
   "id": "dbe1c43f-b92d-4255-a4e2-937bad66230c",
   "metadata": {},
   "outputs": [
    {
     "data": {
      "text/plain": [
       "array([[0., 0., 0., 0., 0.],\n",
       "       [5., 5., 5., 5., 5.],\n",
       "       [8., 8., 8., 8., 8.]])"
      ]
     },
     "execution_count": 48,
     "metadata": {},
     "output_type": "execute_result"
    }
   ],
   "source": [
    "__2D[[0, 5, 8]]"
   ]
  },
  {
   "cell_type": "code",
   "execution_count": 50,
   "id": "ddfb4b6a-023a-4f75-8000-a334bdaf2d00",
   "metadata": {},
   "outputs": [
    {
     "data": {
      "text/plain": [
       "array([[6., 6., 6., 6., 6.],\n",
       "       [3., 3., 3., 3., 3.],\n",
       "       [9., 9., 9., 9., 9.],\n",
       "       [1., 1., 1., 1., 1.]])"
      ]
     },
     "execution_count": 50,
     "metadata": {},
     "output_type": "execute_result"
    }
   ],
   "source": [
    "__2D[[6, 3, 9, 1]] # allows in any order"
   ]
  },
  {
   "cell_type": "markdown",
   "id": "aa1fee59-6549-4f48-a8f9-bfb9a2141fc5",
   "metadata": {},
   "source": [
    "### SELECTION\n",
    "How to use brackets for selection using comparison operators"
   ]
  },
  {
   "cell_type": "code",
   "execution_count": 57,
   "id": "3932c69f-00a6-4f0b-be25-0beddbad58f5",
   "metadata": {},
   "outputs": [
    {
     "data": {
      "text/plain": [
       "array([ 0,  3,  6,  9, 12, 15, 18, 21, 24, 27])"
      ]
     },
     "execution_count": 57,
     "metadata": {},
     "output_type": "execute_result"
    }
   ],
   "source": [
    "arr = np.arange(0, 30, 3) \n",
    "\n",
    "arr"
   ]
  },
  {
   "cell_type": "code",
   "execution_count": 58,
   "id": "d6a9ab89-35d8-4bc8-b318-1bf044ee9c89",
   "metadata": {},
   "outputs": [
    {
     "data": {
      "text/plain": [
       "array([False, False,  True,  True,  True,  True,  True,  True,  True,\n",
       "        True])"
      ]
     },
     "execution_count": 58,
     "metadata": {},
     "output_type": "execute_result"
    }
   ],
   "source": [
    "arr > 3"
   ]
  },
  {
   "cell_type": "code",
   "execution_count": 61,
   "id": "ce5f4389-77ec-4e0b-8255-d328ec0261f1",
   "metadata": {},
   "outputs": [
    {
     "data": {
      "text/plain": [
       "array([ 6,  9, 12, 15, 18, 21, 24, 27])"
      ]
     },
     "execution_count": 61,
     "metadata": {},
     "output_type": "execute_result"
    }
   ],
   "source": [
    "bool_arr = arr > 5\n",
    "\n",
    "arr[bool_arr]"
   ]
  },
  {
   "cell_type": "code",
   "execution_count": 62,
   "id": "96497791-e266-4db5-bbad-5de506d347ed",
   "metadata": {},
   "outputs": [
    {
     "data": {
      "text/plain": [
       "array([ 6,  9, 12, 15, 18, 21, 24, 27])"
      ]
     },
     "execution_count": 62,
     "metadata": {},
     "output_type": "execute_result"
    }
   ],
   "source": [
    "arr[arr>5]"
   ]
  },
  {
   "cell_type": "code",
   "execution_count": 63,
   "id": "f76845c2-6bb3-45c8-a1c4-3a31e304e4b0",
   "metadata": {},
   "outputs": [
    {
     "data": {
      "text/plain": [
       "array([ 0,  3,  6,  9, 12])"
      ]
     },
     "execution_count": 63,
     "metadata": {},
     "output_type": "execute_result"
    }
   ],
   "source": [
    "x = 15\n",
    "\n",
    "arr[arr<x]"
   ]
  }
 ],
 "metadata": {
  "kernelspec": {
   "display_name": "Python 3 (ipykernel)",
   "language": "python",
   "name": "python3"
  },
  "language_info": {
   "codemirror_mode": {
    "name": "ipython",
    "version": 3
   },
   "file_extension": ".py",
   "mimetype": "text/x-python",
   "name": "python",
   "nbconvert_exporter": "python",
   "pygments_lexer": "ipython3",
   "version": "3.11.7"
  }
 },
 "nbformat": 4,
 "nbformat_minor": 5
}
