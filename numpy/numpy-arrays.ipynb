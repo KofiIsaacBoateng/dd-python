{
 "cells": [
  {
   "cell_type": "markdown",
   "id": "877f37ea-f6a4-4ef2-a92b-6d52a42eb0ef",
   "metadata": {},
   "source": [
    "# NumPy Arrays\n",
    "\n",
    "### CREATING NUMPY ARRAYS\n",
    "* From a python list \n",
    "* Built-in methods\n",
    "\n",
    "\n",
    "\n",
    "\n",
    "\n",
    "#### FROM A PYTHON LIST"
   ]
  },
  {
   "cell_type": "code",
   "execution_count": 2,
   "id": "11396a8a-7e6a-42cf-b1ba-fa96368051d5",
   "metadata": {},
   "outputs": [],
   "source": [
    "lst = [1, 2, 3, 4, 5]"
   ]
  },
  {
   "cell_type": "code",
   "execution_count": 3,
   "id": "d9a69039-d86f-40ee-bb7b-5e6d9ce8a1bb",
   "metadata": {},
   "outputs": [],
   "source": [
    "import numpy as np"
   ]
  },
  {
   "cell_type": "code",
   "execution_count": 8,
   "id": "66a89892-96ab-4a54-b862-e5079dbe2a5d",
   "metadata": {},
   "outputs": [
    {
     "data": {
      "text/plain": [
       "array([1, 2, 3, 4, 5])"
      ]
     },
     "execution_count": 8,
     "metadata": {},
     "output_type": "execute_result"
    }
   ],
   "source": [
    "arr = np.array(lst)\n",
    "arr"
   ]
  },
  {
   "cell_type": "code",
   "execution_count": 9,
   "id": "94e1e20f-2a42-4bd2-8df6-fc9509c2bc76",
   "metadata": {},
   "outputs": [
    {
     "data": {
      "text/plain": [
       "[[1, 2, 3], [4, 5, 6], [7, 8, 9]]"
      ]
     },
     "execution_count": 9,
     "metadata": {},
     "output_type": "execute_result"
    }
   ],
   "source": [
    "matrix = [[1, 2, 3], [4, 5, 6], [7, 8, 9]]\n",
    "matrix"
   ]
  },
  {
   "cell_type": "code",
   "execution_count": 10,
   "id": "dec2c1e3-d01b-4dbc-be13-d97358427362",
   "metadata": {},
   "outputs": [
    {
     "data": {
      "text/plain": [
       "array([[1, 2, 3],\n",
       "       [4, 5, 6],\n",
       "       [7, 8, 9]])"
      ]
     },
     "execution_count": 10,
     "metadata": {},
     "output_type": "execute_result"
    }
   ],
   "source": [
    "np.array(matrix)"
   ]
  },
  {
   "cell_type": "markdown",
   "id": "f9ca219e-f97a-4d26-b1bb-ef67a21982f0",
   "metadata": {},
   "source": [
    "#### BUILT-IN METHODS"
   ]
  },
  {
   "cell_type": "markdown",
   "id": "0fe12e4f-bb07-47b9-a9cc-52b74cbddbab",
   "metadata": {},
   "source": [
    "##### arange\n",
    "returns evenly spaced values a given interval"
   ]
  },
  {
   "cell_type": "code",
   "execution_count": 11,
   "id": "3bda4c96-3c21-4b00-b181-50b53e79255c",
   "metadata": {},
   "outputs": [
    {
     "data": {
      "text/plain": [
       "array([0, 1, 2, 3, 4, 5, 6, 7, 8, 9])"
      ]
     },
     "execution_count": 11,
     "metadata": {},
     "output_type": "execute_result"
    }
   ],
   "source": [
    "np.arange(0, 10)"
   ]
  },
  {
   "cell_type": "code",
   "execution_count": 27,
   "id": "3e46d27c-fce3-4547-850b-9584bfbadd0c",
   "metadata": {},
   "outputs": [
    {
     "data": {
      "text/plain": [
       "array([ 0,  5, 10, 15, 20, 25, 30, 35, 40, 45])"
      ]
     },
     "execution_count": 27,
     "metadata": {},
     "output_type": "execute_result"
    }
   ],
   "source": [
    "np.arange(0, 50, 5)"
   ]
  },
  {
   "cell_type": "markdown",
   "id": "51c396a6-0918-410d-84b3-45aa818d8054",
   "metadata": {},
   "source": [
    "##### zeroes and ones\n",
    "generates arrays of zeroes and ones"
   ]
  },
  {
   "cell_type": "code",
   "execution_count": 18,
   "id": "1cf42505-666f-4904-a069-c5eafc72609c",
   "metadata": {},
   "outputs": [
    {
     "data": {
      "text/plain": [
       "array([0., 0., 0., 0., 0.])"
      ]
     },
     "execution_count": 18,
     "metadata": {},
     "output_type": "execute_result"
    }
   ],
   "source": [
    "np.zeros(5)"
   ]
  },
  {
   "cell_type": "code",
   "execution_count": 19,
   "id": "fbf4693e-aa7d-4cb5-b8d6-63e0255ac235",
   "metadata": {},
   "outputs": [
    {
     "data": {
      "text/plain": [
       "array([[0., 0., 0., 0., 0.],\n",
       "       [0., 0., 0., 0., 0.],\n",
       "       [0., 0., 0., 0., 0.],\n",
       "       [0., 0., 0., 0., 0.],\n",
       "       [0., 0., 0., 0., 0.]])"
      ]
     },
     "execution_count": 19,
     "metadata": {},
     "output_type": "execute_result"
    }
   ],
   "source": [
    "np.zeros((5, 5))"
   ]
  },
  {
   "cell_type": "code",
   "execution_count": 20,
   "id": "379d0b4f-e09e-4fd0-894e-726798cab558",
   "metadata": {},
   "outputs": [
    {
     "data": {
      "text/plain": [
       "array([1., 1., 1., 1., 1., 1., 1., 1.])"
      ]
     },
     "execution_count": 20,
     "metadata": {},
     "output_type": "execute_result"
    }
   ],
   "source": [
    "np.ones(8)"
   ]
  },
  {
   "cell_type": "code",
   "execution_count": 21,
   "id": "5c84ff84-4bf5-44ce-a9ec-b459cae7eeae",
   "metadata": {},
   "outputs": [
    {
     "data": {
      "text/plain": [
       "array([[1., 1., 1., 1., 1., 1., 1., 1., 1., 1.],\n",
       "       [1., 1., 1., 1., 1., 1., 1., 1., 1., 1.],\n",
       "       [1., 1., 1., 1., 1., 1., 1., 1., 1., 1.],\n",
       "       [1., 1., 1., 1., 1., 1., 1., 1., 1., 1.],\n",
       "       [1., 1., 1., 1., 1., 1., 1., 1., 1., 1.]])"
      ]
     },
     "execution_count": 21,
     "metadata": {},
     "output_type": "execute_result"
    }
   ],
   "source": [
    "np.ones((5, 10))"
   ]
  },
  {
   "cell_type": "markdown",
   "id": "7244b08c-80c1-48b6-8493-5e43e4ba6d5c",
   "metadata": {},
   "source": [
    "##### linspace\n",
    "returns evenly spaced numbers over a specified interval"
   ]
  },
  {
   "cell_type": "code",
   "execution_count": 23,
   "id": "257ad227-d3c3-4a6f-a7b3-fc8951d0b1c8",
   "metadata": {},
   "outputs": [
    {
     "data": {
      "text/plain": [
       "array([ 0.,  5., 10.])"
      ]
     },
     "execution_count": 23,
     "metadata": {},
     "output_type": "execute_result"
    }
   ],
   "source": [
    "np.linspace(0, 10, 3)"
   ]
  },
  {
   "cell_type": "code",
   "execution_count": 24,
   "id": "7c803bbf-c855-4ce7-9c69-bee8eaf360a0",
   "metadata": {},
   "outputs": [
    {
     "data": {
      "text/plain": [
       "array([12.        , 13.26315789, 14.52631579, 15.78947368, 17.05263158,\n",
       "       18.31578947, 19.57894737, 20.84210526, 22.10526316, 23.36842105,\n",
       "       24.63157895, 25.89473684, 27.15789474, 28.42105263, 29.68421053,\n",
       "       30.94736842, 32.21052632, 33.47368421, 34.73684211, 36.        ])"
      ]
     },
     "execution_count": 24,
     "metadata": {},
     "output_type": "execute_result"
    }
   ],
   "source": [
    "np.linspace(12, 36, 20)"
   ]
  },
  {
   "cell_type": "markdown",
   "id": "375f4fb8-b592-41f4-8781-caf04f8830f3",
   "metadata": {},
   "source": [
    "##### eye\n",
    "Creates an identity matrix"
   ]
  },
  {
   "cell_type": "code",
   "execution_count": 29,
   "id": "05e7ec7f-a9c7-4c52-9452-68a55353a391",
   "metadata": {},
   "outputs": [
    {
     "data": {
      "text/plain": [
       "array([[1., 0., 0., 0., 0.],\n",
       "       [0., 1., 0., 0., 0.],\n",
       "       [0., 0., 1., 0., 0.],\n",
       "       [0., 0., 0., 1., 0.],\n",
       "       [0., 0., 0., 0., 1.]])"
      ]
     },
     "execution_count": 29,
     "metadata": {},
     "output_type": "execute_result"
    }
   ],
   "source": [
    "np.eye(5)"
   ]
  },
  {
   "cell_type": "markdown",
   "id": "e1a9e94a-1d4e-4eeb-8ae4-324d775b5a91",
   "metadata": {},
   "source": [
    "### RANDOM\n",
    "NumPy has a lot of ways to create random number arrays"
   ]
  },
  {
   "cell_type": "markdown",
   "id": "40e49635-e5b0-4b91-914d-269925113c4c",
   "metadata": {},
   "source": [
    "##### rand\n",
    "\n",
    "creates an array of a given shape and populates it with random samples from a uniform distribution over [0, 1]."
   ]
  },
  {
   "cell_type": "code",
   "execution_count": 37,
   "id": "99474442-01c0-4b22-9134-defa7ee7d343",
   "metadata": {},
   "outputs": [
    {
     "data": {
      "text/plain": [
       "array([0.6976016 , 0.51279284, 0.40151011, 0.7947723 , 0.30563405])"
      ]
     },
     "execution_count": 37,
     "metadata": {},
     "output_type": "execute_result"
    }
   ],
   "source": [
    "np.random.rand(5)"
   ]
  },
  {
   "cell_type": "code",
   "execution_count": 38,
   "id": "52bb18da-9b4f-4c87-b2ee-06d2a67b3325",
   "metadata": {},
   "outputs": [
    {
     "data": {
      "text/plain": [
       "array([[0.03733285, 0.15919347, 0.38630106],\n",
       "       [0.4038193 , 0.1726098 , 0.46855847],\n",
       "       [0.77837495, 0.97748974, 0.0174067 ]])"
      ]
     },
     "execution_count": 38,
     "metadata": {},
     "output_type": "execute_result"
    }
   ],
   "source": [
    "np.random.rand(3, 3)"
   ]
  },
  {
   "cell_type": "markdown",
   "id": "4ec91581-f619-4fcf-a6af-44320f4612cc",
   "metadata": {},
   "source": [
    "##### randn\n",
    "creates an array of a given shape and populates it with random samples from a standard normal distribution. Unlike rand which is uniform"
   ]
  },
  {
   "cell_type": "code",
   "execution_count": 39,
   "id": "6908ecb8-1389-434c-8428-7bf83817c412",
   "metadata": {},
   "outputs": [
    {
     "data": {
      "text/plain": [
       "array([-1.06091494, -0.97138095,  0.72058077,  0.58518872,  0.29599852])"
      ]
     },
     "execution_count": 39,
     "metadata": {},
     "output_type": "execute_result"
    }
   ],
   "source": [
    "np.random.randn(5)"
   ]
  },
  {
   "cell_type": "code",
   "execution_count": 40,
   "id": "706f5bd2-0017-47f1-8aa1-4c16f7e98c4d",
   "metadata": {},
   "outputs": [
    {
     "data": {
      "text/plain": [
       "array([[ 0.8543403 , -0.19039587, -1.19075851, -1.04122205],\n",
       "       [ 1.00208413,  1.10716731, -0.13511923,  2.77961079],\n",
       "       [ 0.3182677 ,  0.08782461,  1.01718286, -0.32493609],\n",
       "       [-1.53379438, -0.06296197, -0.64920792, -0.01948953]])"
      ]
     },
     "execution_count": 40,
     "metadata": {},
     "output_type": "execute_result"
    }
   ],
   "source": [
    "np.random.randn(4, 4)"
   ]
  },
  {
   "cell_type": "markdown",
   "id": "5315c129-8441-4405-a6e9-76fe88de672f",
   "metadata": {},
   "source": [
    "##### randint\n",
    "creates an array of random integers from low(inclusive) to high(exclusive)"
   ]
  },
  {
   "cell_type": "code",
   "execution_count": 41,
   "id": "ef60e266-aaca-49d1-8ffc-e091cb43f8e6",
   "metadata": {},
   "outputs": [
    {
     "data": {
      "text/plain": [
       "7"
      ]
     },
     "execution_count": 41,
     "metadata": {},
     "output_type": "execute_result"
    }
   ],
   "source": [
    "np.random.randint(1, 10)"
   ]
  },
  {
   "cell_type": "code",
   "execution_count": 42,
   "id": "9a7e6f2d-6b1b-4480-bb4c-64069860c6da",
   "metadata": {},
   "outputs": [
    {
     "data": {
      "text/plain": [
       "array([3, 5, 8, 5, 6])"
      ]
     },
     "execution_count": 42,
     "metadata": {},
     "output_type": "execute_result"
    }
   ],
   "source": [
    "# third argument is the number of items in an array\n",
    "np.random.randint(1, 10, 5)"
   ]
  },
  {
   "cell_type": "code",
   "execution_count": 44,
   "id": "2c77c6bf-a58d-4bff-84c0-a821de047864",
   "metadata": {},
   "outputs": [
    {
     "data": {
      "text/plain": [
       "array([15, 10,  9, 18, 16, 17, 17, 18, 12, 18,  8, 17, 13, 14,  6])"
      ]
     },
     "execution_count": 44,
     "metadata": {},
     "output_type": "execute_result"
    }
   ],
   "source": [
    "np.random.randint(5, 20, 15)"
   ]
  },
  {
   "cell_type": "markdown",
   "id": "66744499-d729-4102-82e0-acd27da8efef",
   "metadata": {},
   "source": [
    "### Array Attributes and Methods\n",
    "Useful attributes and methods of an array"
   ]
  },
  {
   "cell_type": "code",
   "execution_count": 49,
   "id": "1644f82b-e3ae-46de-98e7-8d159e569cf1",
   "metadata": {},
   "outputs": [],
   "source": [
    "arr = np.arange(25)\n",
    "randarr = np.random.randint(12, 36, 15)"
   ]
  },
  {
   "cell_type": "code",
   "execution_count": 50,
   "id": "3e11d6b5-9d7a-410c-a174-48d874e2401f",
   "metadata": {},
   "outputs": [
    {
     "data": {
      "text/plain": [
       "array([ 0,  1,  2,  3,  4,  5,  6,  7,  8,  9, 10, 11, 12, 13, 14, 15, 16,\n",
       "       17, 18, 19, 20, 21, 22, 23, 24])"
      ]
     },
     "execution_count": 50,
     "metadata": {},
     "output_type": "execute_result"
    }
   ],
   "source": [
    "arr"
   ]
  },
  {
   "cell_type": "code",
   "execution_count": 51,
   "id": "75b8a8a9-5c13-478a-830c-6becd06b5c58",
   "metadata": {},
   "outputs": [
    {
     "data": {
      "text/plain": [
       "array([34, 12, 13, 20, 29, 16, 13, 35, 27, 16, 23, 16, 26, 19, 26])"
      ]
     },
     "execution_count": 51,
     "metadata": {},
     "output_type": "execute_result"
    }
   ],
   "source": [
    "randarr"
   ]
  },
  {
   "cell_type": "markdown",
   "id": "6c494e73-0d4a-44e2-885c-f429e0e0ec1c",
   "metadata": {},
   "source": [
    "#### Reshape\n",
    "Returns an array of the same data but of different dimension (shape)"
   ]
  },
  {
   "cell_type": "code",
   "execution_count": 53,
   "id": "6cc2d042-3695-4ccd-9ffa-62ce4d5ead7f",
   "metadata": {},
   "outputs": [
    {
     "data": {
      "text/plain": [
       "array([[ 0,  1,  2,  3,  4],\n",
       "       [ 5,  6,  7,  8,  9],\n",
       "       [10, 11, 12, 13, 14],\n",
       "       [15, 16, 17, 18, 19],\n",
       "       [20, 21, 22, 23, 24]])"
      ]
     },
     "execution_count": 53,
     "metadata": {},
     "output_type": "execute_result"
    }
   ],
   "source": [
    "arr.reshape(5, 5)"
   ]
  },
  {
   "cell_type": "code",
   "execution_count": 55,
   "id": "e1d9ff2d-809b-4413-a521-435993bff3b6",
   "metadata": {},
   "outputs": [
    {
     "data": {
      "text/plain": [
       "array([[34, 12, 13],\n",
       "       [20, 29, 16],\n",
       "       [13, 35, 27],\n",
       "       [16, 23, 16],\n",
       "       [26, 19, 26]])"
      ]
     },
     "execution_count": 55,
     "metadata": {},
     "output_type": "execute_result"
    }
   ],
   "source": [
    "randarr.reshape(5, 3)"
   ]
  },
  {
   "cell_type": "markdown",
   "id": "3c973ff5-b40b-40b9-9a40-86b4fd737638",
   "metadata": {},
   "source": [
    "#### min, max, argmin, argmax\n",
    "These are methods to find the min and maximum values of an array and their indexes"
   ]
  },
  {
   "cell_type": "code",
   "execution_count": 60,
   "id": "c0402de5-570f-46f4-b2de-754cb3f0793f",
   "metadata": {},
   "outputs": [
    {
     "data": {
      "text/plain": [
       "35"
      ]
     },
     "execution_count": 60,
     "metadata": {},
     "output_type": "execute_result"
    }
   ],
   "source": [
    "randarr.max() # maximum value of randarr"
   ]
  },
  {
   "cell_type": "code",
   "execution_count": 61,
   "id": "169b6aab-a4e0-4078-96c8-fe5dba298e6d",
   "metadata": {},
   "outputs": [
    {
     "data": {
      "text/plain": [
       "7"
      ]
     },
     "execution_count": 61,
     "metadata": {},
     "output_type": "execute_result"
    }
   ],
   "source": [
    "randarr.argmax() # index of the maximum value"
   ]
  },
  {
   "cell_type": "code",
   "execution_count": 62,
   "id": "9f510d01-5002-4b9f-b608-241a3a452763",
   "metadata": {},
   "outputs": [
    {
     "data": {
      "text/plain": [
       "12"
      ]
     },
     "execution_count": 62,
     "metadata": {},
     "output_type": "execute_result"
    }
   ],
   "source": [
    "randarr.min() # min value of randarr"
   ]
  },
  {
   "cell_type": "code",
   "execution_count": 63,
   "id": "23482b79-0a40-4eae-bbd3-78d1b4b45f47",
   "metadata": {},
   "outputs": [
    {
     "data": {
      "text/plain": [
       "1"
      ]
     },
     "execution_count": 63,
     "metadata": {},
     "output_type": "execute_result"
    }
   ],
   "source": [
    "randarr.argmin() # index of the minimum value"
   ]
  },
  {
   "cell_type": "markdown",
   "id": "3363f155-1b90-4004-850a-901616a0d48a",
   "metadata": {},
   "source": [
    "#### Shape \n",
    "Shape is an attribute that arrays have"
   ]
  },
  {
   "cell_type": "code",
   "execution_count": 64,
   "id": "2e018338-c675-4cd5-987b-1b566550f0e2",
   "metadata": {},
   "outputs": [
    {
     "data": {
      "text/plain": [
       "(25,)"
      ]
     },
     "execution_count": 64,
     "metadata": {},
     "output_type": "execute_result"
    }
   ],
   "source": [
    "arr.shape # vector"
   ]
  },
  {
   "cell_type": "code",
   "execution_count": 65,
   "id": "a70d3215-3561-4e5f-b62a-87b8c66d3b52",
   "metadata": {},
   "outputs": [
    {
     "data": {
      "text/plain": [
       "(15,)"
      ]
     },
     "execution_count": 65,
     "metadata": {},
     "output_type": "execute_result"
    }
   ],
   "source": [
    "randarr.shape # vector"
   ]
  },
  {
   "cell_type": "code",
   "execution_count": 66,
   "id": "cfe7a23b-79fe-41f7-a199-8928d7d1bc59",
   "metadata": {},
   "outputs": [
    {
     "data": {
      "text/plain": [
       "array([[34, 12, 13, 20, 29, 16, 13, 35, 27, 16, 23, 16, 26, 19, 26]])"
      ]
     },
     "execution_count": 66,
     "metadata": {},
     "output_type": "execute_result"
    }
   ],
   "source": [
    "randarr.reshape(1, 15) # Pay attention to the two brackets in the output"
   ]
  },
  {
   "cell_type": "code",
   "execution_count": 68,
   "id": "cc7c367b-38d6-4637-b2b6-202b168f2165",
   "metadata": {},
   "outputs": [
    {
     "data": {
      "text/plain": [
       "(1, 15)"
      ]
     },
     "execution_count": 68,
     "metadata": {},
     "output_type": "execute_result"
    }
   ],
   "source": [
    "randarr.reshape(1, 15).shape"
   ]
  },
  {
   "cell_type": "code",
   "execution_count": 69,
   "id": "14fd3e17-961a-45d0-8e11-ccda83bc591e",
   "metadata": {},
   "outputs": [
    {
     "data": {
      "text/plain": [
       "array([[34],\n",
       "       [12],\n",
       "       [13],\n",
       "       [20],\n",
       "       [29],\n",
       "       [16],\n",
       "       [13],\n",
       "       [35],\n",
       "       [27],\n",
       "       [16],\n",
       "       [23],\n",
       "       [16],\n",
       "       [26],\n",
       "       [19],\n",
       "       [26]])"
      ]
     },
     "execution_count": 69,
     "metadata": {},
     "output_type": "execute_result"
    }
   ],
   "source": [
    "randarr.reshape(15, 1) # Notice the difference ???"
   ]
  },
  {
   "cell_type": "code",
   "execution_count": 70,
   "id": "07ec063d-5a96-4b86-9743-23be5f0dbd8a",
   "metadata": {},
   "outputs": [
    {
     "data": {
      "text/plain": [
       "(15, 1)"
      ]
     },
     "execution_count": 70,
     "metadata": {},
     "output_type": "execute_result"
    }
   ],
   "source": [
    "randarr.reshape(15, 1).shape"
   ]
  },
  {
   "cell_type": "markdown",
   "id": "9ad14f43-d259-414a-8d86-46f667b37ea6",
   "metadata": {},
   "source": [
    "#### dtype\n",
    "Tells the datatype of the content of an array"
   ]
  },
  {
   "cell_type": "code",
   "execution_count": 71,
   "id": "725bd03e-9b73-46ab-a7fa-92c9b7a7f27e",
   "metadata": {},
   "outputs": [
    {
     "data": {
      "text/plain": [
       "dtype('int32')"
      ]
     },
     "execution_count": 71,
     "metadata": {},
     "output_type": "execute_result"
    }
   ],
   "source": [
    "arr.dtype"
   ]
  },
  {
   "cell_type": "code",
   "execution_count": 72,
   "id": "27b5dabf-054f-49ac-9477-11160b3b5f59",
   "metadata": {},
   "outputs": [
    {
     "data": {
      "text/plain": [
       "dtype('int32')"
      ]
     },
     "execution_count": 72,
     "metadata": {},
     "output_type": "execute_result"
    }
   ],
   "source": [
    "randarr.dtype"
   ]
  },
  {
   "cell_type": "code",
   "execution_count": null,
   "id": "9c10da20-a852-4062-8bfd-0b9d5e54309b",
   "metadata": {},
   "outputs": [],
   "source": []
  }
 ],
 "metadata": {
  "kernelspec": {
   "display_name": "Python 3 (ipykernel)",
   "language": "python",
   "name": "python3"
  },
  "language_info": {
   "codemirror_mode": {
    "name": "ipython",
    "version": 3
   },
   "file_extension": ".py",
   "mimetype": "text/x-python",
   "name": "python",
   "nbconvert_exporter": "python",
   "pygments_lexer": "ipython3",
   "version": "3.11.7"
  }
 },
 "nbformat": 4,
 "nbformat_minor": 5
}
